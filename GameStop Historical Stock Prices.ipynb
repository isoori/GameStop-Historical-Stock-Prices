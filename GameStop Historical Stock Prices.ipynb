{
 "cells": [
  {
   "cell_type": "code",
   "execution_count": 243,
   "id": "7c05b681",
   "metadata": {},
   "outputs": [
    {
     "ename": "ModuleNotFoundError",
     "evalue": "No module named 'pandas_profiling'",
     "output_type": "error",
     "traceback": [
      "\u001b[1;31m---------------------------------------------------------------------------\u001b[0m",
      "\u001b[1;31mModuleNotFoundError\u001b[0m                       Traceback (most recent call last)",
      "Input \u001b[1;32mIn [243]\u001b[0m, in \u001b[0;36m<cell line: 7>\u001b[1;34m()\u001b[0m\n\u001b[0;32m      4\u001b[0m \u001b[38;5;28;01mimport\u001b[39;00m \u001b[38;5;21;01mmatplotlib\u001b[39;00m\u001b[38;5;21;01m.\u001b[39;00m\u001b[38;5;21;01mpyplot\u001b[39;00m \u001b[38;5;28;01mas\u001b[39;00m \u001b[38;5;21;01mplt\u001b[39;00m \n\u001b[0;32m      5\u001b[0m \u001b[38;5;28;01mimport\u001b[39;00m \u001b[38;5;21;01mseaborn\u001b[39;00m \u001b[38;5;28;01mas\u001b[39;00m \u001b[38;5;21;01msns\u001b[39;00m\n\u001b[1;32m----> 7\u001b[0m \u001b[38;5;28;01mfrom\u001b[39;00m \u001b[38;5;21;01mpandas_profiling\u001b[39;00m \u001b[38;5;28;01mimport\u001b[39;00m ProfileReport\n\u001b[0;32m      8\u001b[0m \u001b[38;5;28;01mfrom\u001b[39;00m \u001b[38;5;21;01msklearn\u001b[39;00m\u001b[38;5;21;01m.\u001b[39;00m\u001b[38;5;21;01mpreprocessing\u001b[39;00m \u001b[38;5;28;01mimport\u001b[39;00m MinMaxScaler\n\u001b[0;32m      9\u001b[0m \u001b[38;5;28;01mfrom\u001b[39;00m \u001b[38;5;21;01mkeras\u001b[39;00m\u001b[38;5;21;01m.\u001b[39;00m\u001b[38;5;21;01mlayers\u001b[39;00m \u001b[38;5;28;01mimport\u001b[39;00m LSTM,Dense\n",
      "\u001b[1;31mModuleNotFoundError\u001b[0m: No module named 'pandas_profiling'"
     ]
    }
   ],
   "source": [
    "import numpy as np #Importing Library\n",
    "import pandas as pd\n",
    "\n",
    "import matplotlib.pyplot as plt \n",
    "import seaborn as sns\n",
    "\n",
    "from pandas_profiling import ProfileReport\n",
    "from sklearn.preprocessing import MinMaxScaler\n",
    "from keras.layers import LSTM,Dense\n",
    "from keras.models import Sequential"
   ]
  },
  {
   "cell_type": "code",
   "execution_count": 192,
   "id": "92e7fae6",
   "metadata": {},
   "outputs": [
    {
     "data": {
      "text/html": [
       "<div>\n",
       "<style scoped>\n",
       "    .dataframe tbody tr th:only-of-type {\n",
       "        vertical-align: middle;\n",
       "    }\n",
       "\n",
       "    .dataframe tbody tr th {\n",
       "        vertical-align: top;\n",
       "    }\n",
       "\n",
       "    .dataframe thead th {\n",
       "        text-align: right;\n",
       "    }\n",
       "</style>\n",
       "<table border=\"1\" class=\"dataframe\">\n",
       "  <thead>\n",
       "    <tr style=\"text-align: right;\">\n",
       "      <th></th>\n",
       "      <th>date</th>\n",
       "      <th>open_price</th>\n",
       "      <th>high_price</th>\n",
       "      <th>low_price</th>\n",
       "      <th>close_price</th>\n",
       "      <th>volume</th>\n",
       "      <th>adjclose_price</th>\n",
       "    </tr>\n",
       "  </thead>\n",
       "  <tbody>\n",
       "    <tr>\n",
       "      <th>0</th>\n",
       "      <td>2021-01-28</td>\n",
       "      <td>265.000000</td>\n",
       "      <td>483.000000</td>\n",
       "      <td>112.250000</td>\n",
       "      <td>193.600006</td>\n",
       "      <td>58815800.0</td>\n",
       "      <td>193.600006</td>\n",
       "    </tr>\n",
       "    <tr>\n",
       "      <th>1</th>\n",
       "      <td>2021-01-27</td>\n",
       "      <td>354.829987</td>\n",
       "      <td>380.000000</td>\n",
       "      <td>249.000000</td>\n",
       "      <td>347.510010</td>\n",
       "      <td>93396700.0</td>\n",
       "      <td>347.510010</td>\n",
       "    </tr>\n",
       "    <tr>\n",
       "      <th>2</th>\n",
       "      <td>2021-01-26</td>\n",
       "      <td>88.559998</td>\n",
       "      <td>150.000000</td>\n",
       "      <td>80.199997</td>\n",
       "      <td>147.979996</td>\n",
       "      <td>178588000.0</td>\n",
       "      <td>147.979996</td>\n",
       "    </tr>\n",
       "    <tr>\n",
       "      <th>3</th>\n",
       "      <td>2021-01-25</td>\n",
       "      <td>96.730003</td>\n",
       "      <td>159.179993</td>\n",
       "      <td>61.130001</td>\n",
       "      <td>76.790001</td>\n",
       "      <td>177874000.0</td>\n",
       "      <td>76.790001</td>\n",
       "    </tr>\n",
       "    <tr>\n",
       "      <th>4</th>\n",
       "      <td>2021-01-22</td>\n",
       "      <td>42.590000</td>\n",
       "      <td>76.760002</td>\n",
       "      <td>42.320000</td>\n",
       "      <td>65.010002</td>\n",
       "      <td>196784300.0</td>\n",
       "      <td>65.010002</td>\n",
       "    </tr>\n",
       "  </tbody>\n",
       "</table>\n",
       "</div>"
      ],
      "text/plain": [
       "         date  open_price  high_price   low_price  close_price       volume  \\\n",
       "0  2021-01-28  265.000000  483.000000  112.250000   193.600006   58815800.0   \n",
       "1  2021-01-27  354.829987  380.000000  249.000000   347.510010   93396700.0   \n",
       "2  2021-01-26   88.559998  150.000000   80.199997   147.979996  178588000.0   \n",
       "3  2021-01-25   96.730003  159.179993   61.130001    76.790001  177874000.0   \n",
       "4  2021-01-22   42.590000   76.760002   42.320000    65.010002  196784300.0   \n",
       "\n",
       "   adjclose_price  \n",
       "0      193.600006  \n",
       "1      347.510010  \n",
       "2      147.979996  \n",
       "3       76.790001  \n",
       "4       65.010002  "
      ]
     },
     "execution_count": 192,
     "metadata": {},
     "output_type": "execute_result"
    }
   ],
   "source": [
    "df = pd.read_csv(\"GME_stock.csv\") #Loading Data\n",
    "df.head()"
   ]
  },
  {
   "cell_type": "code",
   "execution_count": 193,
   "id": "7b165170",
   "metadata": {},
   "outputs": [
    {
     "name": "stdout",
     "output_type": "stream",
     "text": [
      "<class 'pandas.core.frame.DataFrame'>\n",
      "RangeIndex: 4773 entries, 0 to 4772\n",
      "Data columns (total 7 columns):\n",
      " #   Column          Non-Null Count  Dtype  \n",
      "---  ------          --------------  -----  \n",
      " 0   date            4773 non-null   object \n",
      " 1   open_price      4773 non-null   float64\n",
      " 2   high_price      4773 non-null   float64\n",
      " 3   low_price       4773 non-null   float64\n",
      " 4   close_price     4773 non-null   float64\n",
      " 5   volume          4773 non-null   float64\n",
      " 6   adjclose_price  4773 non-null   float64\n",
      "dtypes: float64(6), object(1)\n",
      "memory usage: 261.1+ KB\n"
     ]
    }
   ],
   "source": [
    "df.info()"
   ]
  },
  {
   "cell_type": "code",
   "execution_count": 194,
   "id": "14b71375",
   "metadata": {},
   "outputs": [],
   "source": [
    "df['date']=pd.to_datetime(df['date']) #Convert to DateTime"
   ]
  },
  {
   "cell_type": "code",
   "execution_count": 195,
   "id": "891e05e1",
   "metadata": {},
   "outputs": [],
   "source": [
    "df.set_index('date',inplace=True) #Changing Date column to index"
   ]
  },
  {
   "cell_type": "code",
   "execution_count": 196,
   "id": "614e2f91",
   "metadata": {},
   "outputs": [],
   "source": [
    "df = df.iloc[::-1] #Reversing DataFrame to be from old to new Date "
   ]
  },
  {
   "cell_type": "code",
   "execution_count": 197,
   "id": "93ec1f21",
   "metadata": {},
   "outputs": [
    {
     "data": {
      "text/html": [
       "<div>\n",
       "<style scoped>\n",
       "    .dataframe tbody tr th:only-of-type {\n",
       "        vertical-align: middle;\n",
       "    }\n",
       "\n",
       "    .dataframe tbody tr th {\n",
       "        vertical-align: top;\n",
       "    }\n",
       "\n",
       "    .dataframe thead th {\n",
       "        text-align: right;\n",
       "    }\n",
       "</style>\n",
       "<table border=\"1\" class=\"dataframe\">\n",
       "  <thead>\n",
       "    <tr style=\"text-align: right;\">\n",
       "      <th></th>\n",
       "      <th>open_price</th>\n",
       "      <th>high_price</th>\n",
       "      <th>low_price</th>\n",
       "      <th>close_price</th>\n",
       "      <th>volume</th>\n",
       "      <th>adjclose_price</th>\n",
       "    </tr>\n",
       "    <tr>\n",
       "      <th>date</th>\n",
       "      <th></th>\n",
       "      <th></th>\n",
       "      <th></th>\n",
       "      <th></th>\n",
       "      <th></th>\n",
       "      <th></th>\n",
       "    </tr>\n",
       "  </thead>\n",
       "  <tbody>\n",
       "    <tr>\n",
       "      <th>2002-02-13</th>\n",
       "      <td>9.625000</td>\n",
       "      <td>10.060000</td>\n",
       "      <td>9.525000</td>\n",
       "      <td>10.050000</td>\n",
       "      <td>19054000.0</td>\n",
       "      <td>6.766666</td>\n",
       "    </tr>\n",
       "    <tr>\n",
       "      <th>2002-02-14</th>\n",
       "      <td>10.175000</td>\n",
       "      <td>10.195000</td>\n",
       "      <td>9.925000</td>\n",
       "      <td>10.000000</td>\n",
       "      <td>2755400.0</td>\n",
       "      <td>6.733003</td>\n",
       "    </tr>\n",
       "    <tr>\n",
       "      <th>2002-02-15</th>\n",
       "      <td>10.000000</td>\n",
       "      <td>10.025000</td>\n",
       "      <td>9.850000</td>\n",
       "      <td>9.950000</td>\n",
       "      <td>2097400.0</td>\n",
       "      <td>6.699336</td>\n",
       "    </tr>\n",
       "    <tr>\n",
       "      <th>2002-02-19</th>\n",
       "      <td>9.900000</td>\n",
       "      <td>9.900000</td>\n",
       "      <td>9.375000</td>\n",
       "      <td>9.550000</td>\n",
       "      <td>1852600.0</td>\n",
       "      <td>6.430017</td>\n",
       "    </tr>\n",
       "    <tr>\n",
       "      <th>2002-02-20</th>\n",
       "      <td>9.600000</td>\n",
       "      <td>9.875000</td>\n",
       "      <td>9.525000</td>\n",
       "      <td>9.875000</td>\n",
       "      <td>1723200.0</td>\n",
       "      <td>6.648838</td>\n",
       "    </tr>\n",
       "    <tr>\n",
       "      <th>...</th>\n",
       "      <td>...</td>\n",
       "      <td>...</td>\n",
       "      <td>...</td>\n",
       "      <td>...</td>\n",
       "      <td>...</td>\n",
       "      <td>...</td>\n",
       "    </tr>\n",
       "    <tr>\n",
       "      <th>2021-01-22</th>\n",
       "      <td>42.590000</td>\n",
       "      <td>76.760002</td>\n",
       "      <td>42.320000</td>\n",
       "      <td>65.010002</td>\n",
       "      <td>196784300.0</td>\n",
       "      <td>65.010002</td>\n",
       "    </tr>\n",
       "    <tr>\n",
       "      <th>2021-01-25</th>\n",
       "      <td>96.730003</td>\n",
       "      <td>159.179993</td>\n",
       "      <td>61.130001</td>\n",
       "      <td>76.790001</td>\n",
       "      <td>177874000.0</td>\n",
       "      <td>76.790001</td>\n",
       "    </tr>\n",
       "    <tr>\n",
       "      <th>2021-01-26</th>\n",
       "      <td>88.559998</td>\n",
       "      <td>150.000000</td>\n",
       "      <td>80.199997</td>\n",
       "      <td>147.979996</td>\n",
       "      <td>178588000.0</td>\n",
       "      <td>147.979996</td>\n",
       "    </tr>\n",
       "    <tr>\n",
       "      <th>2021-01-27</th>\n",
       "      <td>354.829987</td>\n",
       "      <td>380.000000</td>\n",
       "      <td>249.000000</td>\n",
       "      <td>347.510010</td>\n",
       "      <td>93396700.0</td>\n",
       "      <td>347.510010</td>\n",
       "    </tr>\n",
       "    <tr>\n",
       "      <th>2021-01-28</th>\n",
       "      <td>265.000000</td>\n",
       "      <td>483.000000</td>\n",
       "      <td>112.250000</td>\n",
       "      <td>193.600006</td>\n",
       "      <td>58815800.0</td>\n",
       "      <td>193.600006</td>\n",
       "    </tr>\n",
       "  </tbody>\n",
       "</table>\n",
       "<p>4773 rows × 6 columns</p>\n",
       "</div>"
      ],
      "text/plain": [
       "            open_price  high_price   low_price  close_price       volume  \\\n",
       "date                                                                       \n",
       "2002-02-13    9.625000   10.060000    9.525000    10.050000   19054000.0   \n",
       "2002-02-14   10.175000   10.195000    9.925000    10.000000    2755400.0   \n",
       "2002-02-15   10.000000   10.025000    9.850000     9.950000    2097400.0   \n",
       "2002-02-19    9.900000    9.900000    9.375000     9.550000    1852600.0   \n",
       "2002-02-20    9.600000    9.875000    9.525000     9.875000    1723200.0   \n",
       "...                ...         ...         ...          ...          ...   \n",
       "2021-01-22   42.590000   76.760002   42.320000    65.010002  196784300.0   \n",
       "2021-01-25   96.730003  159.179993   61.130001    76.790001  177874000.0   \n",
       "2021-01-26   88.559998  150.000000   80.199997   147.979996  178588000.0   \n",
       "2021-01-27  354.829987  380.000000  249.000000   347.510010   93396700.0   \n",
       "2021-01-28  265.000000  483.000000  112.250000   193.600006   58815800.0   \n",
       "\n",
       "            adjclose_price  \n",
       "date                        \n",
       "2002-02-13        6.766666  \n",
       "2002-02-14        6.733003  \n",
       "2002-02-15        6.699336  \n",
       "2002-02-19        6.430017  \n",
       "2002-02-20        6.648838  \n",
       "...                    ...  \n",
       "2021-01-22       65.010002  \n",
       "2021-01-25       76.790001  \n",
       "2021-01-26      147.979996  \n",
       "2021-01-27      347.510010  \n",
       "2021-01-28      193.600006  \n",
       "\n",
       "[4773 rows x 6 columns]"
      ]
     },
     "execution_count": 197,
     "metadata": {},
     "output_type": "execute_result"
    }
   ],
   "source": [
    "df"
   ]
  },
  {
   "cell_type": "code",
   "execution_count": 198,
   "id": "5bb5f6c0",
   "metadata": {},
   "outputs": [
    {
     "data": {
      "image/png": "[encoded data removed]",
      "text/plain": [
       "<Figure size 700x350 with 1 Axes>"
      ]
     },
     "metadata": {
      "needs_background": "light"
     },
     "output_type": "display_data"
    }
   ],
   "source": [
    "plt.figure(figsize=(10,5),dpi=70)\n",
    "plt.plot(df['close_price'],label=\"CLOSE PRICE\")\n",
    "plt.plot(df['adjclose_price'],label=\"ADJ CLOSE PRICE\")\n",
    "plt.grid()\n",
    "plt.legend()\n",
    "plt.show()"
   ]
  },
  {
   "cell_type": "code",
   "execution_count": 199,
   "id": "b75a0e02",
   "metadata": {},
   "outputs": [
    {
     "data": {
      "image/png": "[encoded data removed]",
      "text/plain": [
       "<Figure size 432x288 with 1 Axes>"
      ]
     },
     "metadata": {
      "needs_background": "light"
     },
     "output_type": "display_data"
    }
   ],
   "source": [
    "sns.barplot(x=df.index.month,y=df.volume,data=df)\n",
    "plt.grid()\n",
    "plt.show()"
   ]
  },
  {
   "cell_type": "code",
   "execution_count": 200,
   "id": "d252dd74",
   "metadata": {},
   "outputs": [],
   "source": [
    "features = df.drop(['close_price','adjclose_price'],axis=1)\n",
    "target = df[['adjclose_price']]"
   ]
  },
  {
   "cell_type": "code",
   "execution_count": 201,
   "id": "2803b64d",
   "metadata": {},
   "outputs": [
    {
     "data": {
      "text/html": [
       "<div>\n",
       "<style scoped>\n",
       "    .dataframe tbody tr th:only-of-type {\n",
       "        vertical-align: middle;\n",
       "    }\n",
       "\n",
       "    .dataframe tbody tr th {\n",
       "        vertical-align: top;\n",
       "    }\n",
       "\n",
       "    .dataframe thead th {\n",
       "        text-align: right;\n",
       "    }\n",
       "</style>\n",
       "<table border=\"1\" class=\"dataframe\">\n",
       "  <thead>\n",
       "    <tr style=\"text-align: right;\">\n",
       "      <th></th>\n",
       "      <th>open_price</th>\n",
       "      <th>high_price</th>\n",
       "      <th>low_price</th>\n",
       "      <th>volume</th>\n",
       "    </tr>\n",
       "    <tr>\n",
       "      <th>date</th>\n",
       "      <th></th>\n",
       "      <th></th>\n",
       "      <th></th>\n",
       "      <th></th>\n",
       "    </tr>\n",
       "  </thead>\n",
       "  <tbody>\n",
       "    <tr>\n",
       "      <th>2002-02-13</th>\n",
       "      <td>9.625</td>\n",
       "      <td>10.060</td>\n",
       "      <td>9.525</td>\n",
       "      <td>19054000.0</td>\n",
       "    </tr>\n",
       "    <tr>\n",
       "      <th>2002-02-14</th>\n",
       "      <td>10.175</td>\n",
       "      <td>10.195</td>\n",
       "      <td>9.925</td>\n",
       "      <td>2755400.0</td>\n",
       "    </tr>\n",
       "    <tr>\n",
       "      <th>2002-02-15</th>\n",
       "      <td>10.000</td>\n",
       "      <td>10.025</td>\n",
       "      <td>9.850</td>\n",
       "      <td>2097400.0</td>\n",
       "    </tr>\n",
       "    <tr>\n",
       "      <th>2002-02-19</th>\n",
       "      <td>9.900</td>\n",
       "      <td>9.900</td>\n",
       "      <td>9.375</td>\n",
       "      <td>1852600.0</td>\n",
       "    </tr>\n",
       "    <tr>\n",
       "      <th>2002-02-20</th>\n",
       "      <td>9.600</td>\n",
       "      <td>9.875</td>\n",
       "      <td>9.525</td>\n",
       "      <td>1723200.0</td>\n",
       "    </tr>\n",
       "  </tbody>\n",
       "</table>\n",
       "</div>"
      ],
      "text/plain": [
       "            open_price  high_price  low_price      volume\n",
       "date                                                     \n",
       "2002-02-13       9.625      10.060      9.525  19054000.0\n",
       "2002-02-14      10.175      10.195      9.925   2755400.0\n",
       "2002-02-15      10.000      10.025      9.850   2097400.0\n",
       "2002-02-19       9.900       9.900      9.375   1852600.0\n",
       "2002-02-20       9.600       9.875      9.525   1723200.0"
      ]
     },
     "execution_count": 201,
     "metadata": {},
     "output_type": "execute_result"
    }
   ],
   "source": [
    "features.head()"
   ]
  },
  {
   "cell_type": "code",
   "execution_count": 202,
   "id": "a73a0b48",
   "metadata": {},
   "outputs": [
    {
     "data": {
      "text/html": [
       "<div>\n",
       "<style scoped>\n",
       "    .dataframe tbody tr th:only-of-type {\n",
       "        vertical-align: middle;\n",
       "    }\n",
       "\n",
       "    .dataframe tbody tr th {\n",
       "        vertical-align: top;\n",
       "    }\n",
       "\n",
       "    .dataframe thead th {\n",
       "        text-align: right;\n",
       "    }\n",
       "</style>\n",
       "<table border=\"1\" class=\"dataframe\">\n",
       "  <thead>\n",
       "    <tr style=\"text-align: right;\">\n",
       "      <th></th>\n",
       "      <th>adjclose_price</th>\n",
       "    </tr>\n",
       "    <tr>\n",
       "      <th>date</th>\n",
       "      <th></th>\n",
       "    </tr>\n",
       "  </thead>\n",
       "  <tbody>\n",
       "    <tr>\n",
       "      <th>2002-02-13</th>\n",
       "      <td>6.766666</td>\n",
       "    </tr>\n",
       "    <tr>\n",
       "      <th>2002-02-14</th>\n",
       "      <td>6.733003</td>\n",
       "    </tr>\n",
       "    <tr>\n",
       "      <th>2002-02-15</th>\n",
       "      <td>6.699336</td>\n",
       "    </tr>\n",
       "    <tr>\n",
       "      <th>2002-02-19</th>\n",
       "      <td>6.430017</td>\n",
       "    </tr>\n",
       "    <tr>\n",
       "      <th>2002-02-20</th>\n",
       "      <td>6.648838</td>\n",
       "    </tr>\n",
       "  </tbody>\n",
       "</table>\n",
       "</div>"
      ],
      "text/plain": [
       "            adjclose_price\n",
       "date                      \n",
       "2002-02-13        6.766666\n",
       "2002-02-14        6.733003\n",
       "2002-02-15        6.699336\n",
       "2002-02-19        6.430017\n",
       "2002-02-20        6.648838"
      ]
     },
     "execution_count": 202,
     "metadata": {},
     "output_type": "execute_result"
    }
   ],
   "source": [
    "target.head()"
   ]
  },
  {
   "cell_type": "code",
   "execution_count": 203,
   "id": "5f096380",
   "metadata": {},
   "outputs": [
    {
     "data": {
      "text/plain": [
       "array([[0.01924825, 0.01483148, 0.02822302, 0.0965284 ],\n",
       "       [0.02081084, 0.01511269, 0.0298462 , 0.01367634],\n",
       "       [0.02031366, 0.01475857, 0.02954186, 0.01033147],\n",
       "       ...,\n",
       "       [0.24350816, 0.30633671, 0.31501845, 0.9075012 ],\n",
       "       [1.        , 0.78544349, 1.        , 0.47444099],\n",
       "       [0.74478666, 1.        , 0.44507568, 0.29865295]])"
      ]
     },
     "execution_count": 203,
     "metadata": {},
     "output_type": "execute_result"
    }
   ],
   "source": [
    "scaller_data = MinMaxScaler(feature_range=(0,1)) #Standarlized Features\n",
    "scalled_features = scaller_data.fit_transform(features)\n",
    "scalled_features"
   ]
  },
  {
   "cell_type": "code",
   "execution_count": 204,
   "id": "8b54b325",
   "metadata": {},
   "outputs": [
    {
     "data": {
      "text/plain": [
       "array([[0.01220882],\n",
       "       [0.01211123],\n",
       "       [0.01201363],\n",
       "       ...,\n",
       "       [0.42157641],\n",
       "       [1.        ],\n",
       "       [0.55382564]])"
      ]
     },
     "execution_count": 204,
     "metadata": {},
     "output_type": "execute_result"
    }
   ],
   "source": [
    "scaller_target = MinMaxScaler(feature_range=(0,1))\n",
    "scalled_target = scaller_target.fit_transform(target)\n",
    "scalled_target"
   ]
  },
  {
   "cell_type": "code",
   "execution_count": 205,
   "id": "ecaafd95",
   "metadata": {},
   "outputs": [],
   "source": [
    "feature_len = int(len(scalled_features)*0.8)\n",
    "target_len = int(len(scalled_target)*0.8)"
   ]
  },
  {
   "cell_type": "code",
   "execution_count": 206,
   "id": "ca32fdcb",
   "metadata": {},
   "outputs": [],
   "source": [
    "train_feature = scalled_features[:feature_len]\n",
    "train_target = scalled_target[:target_len]"
   ]
  },
  {
   "cell_type": "code",
   "execution_count": 207,
   "id": "f0143437",
   "metadata": {},
   "outputs": [],
   "source": [
    "test_feature = scalled_features[feature_len:]\n",
    "test_target = scalled_target[target_len:]"
   ]
  },
  {
   "cell_type": "code",
   "execution_count": 208,
   "id": "e6739429",
   "metadata": {},
   "outputs": [
    {
     "data": {
      "text/plain": [
       "(3818, 4)"
      ]
     },
     "execution_count": 208,
     "metadata": {},
     "output_type": "execute_result"
    }
   ],
   "source": [
    "train_feature.shape"
   ]
  },
  {
   "cell_type": "code",
   "execution_count": 209,
   "id": "f659cece",
   "metadata": {},
   "outputs": [
    {
     "data": {
      "text/plain": [
       "(955, 4)"
      ]
     },
     "execution_count": 209,
     "metadata": {},
     "output_type": "execute_result"
    }
   ],
   "source": [
    "test_feature.shape"
   ]
  },
  {
   "cell_type": "code",
   "execution_count": 210,
   "id": "4dd3f1b1",
   "metadata": {},
   "outputs": [
    {
     "data": {
      "text/plain": [
       "True"
      ]
     },
     "execution_count": 210,
     "metadata": {},
     "output_type": "execute_result"
    }
   ],
   "source": [
    "len(scalled_features) == (len(train_feature)+len(test_feature))"
   ]
  },
  {
   "cell_type": "code",
   "execution_count": 211,
   "id": "651d1d68",
   "metadata": {},
   "outputs": [],
   "source": [
    "X_train , y_train = [], []\n",
    "timesteps = 80\n",
    "\n",
    "for i in range (timesteps,len(train_feature)):\n",
    "    X_train.append(train_feature[i-timesteps:i,:])\n",
    "    y_train.append(train_target[i,0])"
   ]
  },
  {
   "cell_type": "code",
   "execution_count": 212,
   "id": "78c77aba",
   "metadata": {},
   "outputs": [
    {
     "name": "stdout",
     "output_type": "stream",
     "text": [
      "(3738, 80, 4)\n",
      "(3738,)\n"
     ]
    }
   ],
   "source": [
    "X_train = np.array(X_train)\n",
    "y_train = np.array(y_train)\n",
    "print(X_train.shape)\n",
    "print(y_train.shape)"
   ]
  },
  {
   "cell_type": "code",
   "execution_count": 213,
   "id": "569dbfb0",
   "metadata": {},
   "outputs": [
    {
     "data": {
      "text/plain": [
       "(3738, 80, 4)"
      ]
     },
     "execution_count": 213,
     "metadata": {},
     "output_type": "execute_result"
    }
   ],
   "source": [
    "X_train = X_train.reshape(X_train.shape[0],X_train.shape[1],4)\n",
    "X_train.shape"
   ]
  },
  {
   "cell_type": "code",
   "execution_count": 214,
   "id": "0d1353ea",
   "metadata": {},
   "outputs": [],
   "source": [
    "model1 = Sequential()\n",
    "model1.add(LSTM(16,activation='tanh',input_shape=(X_train.shape[1],4),return_sequences=False))\n",
    "model1.add(Dense(1))\n",
    "model1.compile(optimizer='adam',loss='mse')"
   ]
  },
  {
   "cell_type": "code",
   "execution_count": 215,
   "id": "e7af73a8",
   "metadata": {},
   "outputs": [
    {
     "name": "stdout",
     "output_type": "stream",
     "text": [
      "Epoch 1/100\n",
      "117/117 [==============================] - 4s 18ms/step - loss: 4.2022e-05\n",
      "Epoch 2/100\n",
      "117/117 [==============================] - 2s 18ms/step - loss: 1.7108e-05\n",
      "Epoch 3/100\n",
      "117/117 [==============================] - 2s 19ms/step - loss: 1.6586e-05\n",
      "Epoch 4/100\n",
      "117/117 [==============================] - 2s 18ms/step - loss: 1.6313e-05\n",
      "Epoch 5/100\n",
      "117/117 [==============================] - 2s 18ms/step - loss: 1.6504e-05\n",
      "Epoch 6/100\n",
      "117/117 [==============================] - 2s 18ms/step - loss: 1.4791e-05\n",
      "Epoch 7/100\n",
      "117/117 [==============================] - 2s 18ms/step - loss: 1.5001e-05\n",
      "Epoch 8/100\n",
      "117/117 [==============================] - 2s 17ms/step - loss: 1.5781e-05\n",
      "Epoch 9/100\n",
      "117/117 [==============================] - 2s 17ms/step - loss: 1.5349e-05\n",
      "Epoch 10/100\n",
      "117/117 [==============================] - 2s 18ms/step - loss: 1.4658e-05\n",
      "Epoch 11/100\n",
      "117/117 [==============================] - 2s 18ms/step - loss: 1.5252e-05\n",
      "Epoch 12/100\n",
      "117/117 [==============================] - 2s 17ms/step - loss: 1.4189e-05\n",
      "Epoch 13/100\n",
      "117/117 [==============================] - 2s 17ms/step - loss: 1.3763e-05\n",
      "Epoch 14/100\n",
      "117/117 [==============================] - 2s 18ms/step - loss: 1.4065e-05\n",
      "Epoch 15/100\n",
      "117/117 [==============================] - 2s 17ms/step - loss: 1.4348e-05\n",
      "Epoch 16/100\n",
      "117/117 [==============================] - 2s 18ms/step - loss: 1.5156e-05\n",
      "Epoch 17/100\n",
      "117/117 [==============================] - 2s 17ms/step - loss: 1.3199e-05\n",
      "Epoch 18/100\n",
      "117/117 [==============================] - 2s 18ms/step - loss: 1.3847e-05\n",
      "Epoch 19/100\n",
      "117/117 [==============================] - 2s 18ms/step - loss: 1.3819e-05\n",
      "Epoch 20/100\n",
      "117/117 [==============================] - 2s 18ms/step - loss: 1.3966e-05\n",
      "Epoch 21/100\n",
      "117/117 [==============================] - 2s 19ms/step - loss: 1.4000e-05\n",
      "Epoch 22/100\n",
      "117/117 [==============================] - 2s 18ms/step - loss: 1.3031e-05\n",
      "Epoch 23/100\n",
      "117/117 [==============================] - 2s 17ms/step - loss: 1.3014e-05\n",
      "Epoch 24/100\n",
      "117/117 [==============================] - 2s 18ms/step - loss: 1.3610e-05\n",
      "Epoch 25/100\n",
      "117/117 [==============================] - 2s 18ms/step - loss: 1.2905e-05\n",
      "Epoch 26/100\n",
      "117/117 [==============================] - 2s 18ms/step - loss: 1.2717e-05\n",
      "Epoch 27/100\n",
      "117/117 [==============================] - 2s 18ms/step - loss: 1.3335e-05\n",
      "Epoch 28/100\n",
      "117/117 [==============================] - 2s 18ms/step - loss: 1.2685e-05\n",
      "Epoch 29/100\n",
      "117/117 [==============================] - 2s 17ms/step - loss: 1.3567e-05\n",
      "Epoch 30/100\n",
      "117/117 [==============================] - 2s 18ms/step - loss: 1.2302e-05\n",
      "Epoch 31/100\n",
      "117/117 [==============================] - 2s 18ms/step - loss: 1.1500e-05\n",
      "Epoch 32/100\n",
      "117/117 [==============================] - 2s 17ms/step - loss: 1.2107e-05\n",
      "Epoch 33/100\n",
      "117/117 [==============================] - 2s 18ms/step - loss: 1.2623e-05\n",
      "Epoch 34/100\n",
      "117/117 [==============================] - 2s 17ms/step - loss: 1.1656e-05\n",
      "Epoch 35/100\n",
      "117/117 [==============================] - 2s 18ms/step - loss: 1.1099e-05\n",
      "Epoch 36/100\n",
      "117/117 [==============================] - 2s 18ms/step - loss: 1.1910e-05\n",
      "Epoch 37/100\n",
      "117/117 [==============================] - 2s 18ms/step - loss: 1.0861e-05\n",
      "Epoch 38/100\n",
      "117/117 [==============================] - 2s 18ms/step - loss: 1.0987e-05\n",
      "Epoch 39/100\n",
      "117/117 [==============================] - 2s 18ms/step - loss: 1.1260e-05\n",
      "Epoch 40/100\n",
      "117/117 [==============================] - 2s 18ms/step - loss: 1.1189e-05\n",
      "Epoch 41/100\n",
      "117/117 [==============================] - 2s 18ms/step - loss: 1.0690e-05\n",
      "Epoch 42/100\n",
      "117/117 [==============================] - 2s 18ms/step - loss: 1.0781e-05\n",
      "Epoch 43/100\n",
      "117/117 [==============================] - 2s 18ms/step - loss: 1.1924e-05\n",
      "Epoch 44/100\n",
      "117/117 [==============================] - 2s 18ms/step - loss: 1.1271e-05\n",
      "Epoch 45/100\n",
      "117/117 [==============================] - 2s 18ms/step - loss: 1.1855e-05\n",
      "Epoch 46/100\n",
      "117/117 [==============================] - 2s 18ms/step - loss: 1.1584e-05\n",
      "Epoch 47/100\n",
      "117/117 [==============================] - 2s 18ms/step - loss: 1.0072e-05\n",
      "Epoch 48/100\n",
      "117/117 [==============================] - 2s 17ms/step - loss: 1.0304e-05\n",
      "Epoch 49/100\n",
      "117/117 [==============================] - 2s 18ms/step - loss: 1.0561e-05\n",
      "Epoch 50/100\n",
      "117/117 [==============================] - 2s 18ms/step - loss: 1.0549e-05\n",
      "Epoch 51/100\n",
      "117/117 [==============================] - 2s 19ms/step - loss: 1.0275e-05\n",
      "Epoch 52/100\n",
      "117/117 [==============================] - 2s 18ms/step - loss: 1.1099e-05\n",
      "Epoch 53/100\n",
      "117/117 [==============================] - 2s 18ms/step - loss: 1.0837e-05\n",
      "Epoch 54/100\n",
      "117/117 [==============================] - 2s 18ms/step - loss: 1.0260e-05\n",
      "Epoch 55/100\n",
      "117/117 [==============================] - 2s 18ms/step - loss: 1.0533e-05\n",
      "Epoch 56/100\n",
      "117/117 [==============================] - 2s 18ms/step - loss: 1.0734e-05\n",
      "Epoch 57/100\n",
      "117/117 [==============================] - 2s 19ms/step - loss: 1.1035e-05\n",
      "Epoch 58/100\n",
      "117/117 [==============================] - 2s 18ms/step - loss: 1.0752e-05\n",
      "Epoch 59/100\n",
      "117/117 [==============================] - 2s 18ms/step - loss: 1.1173e-05\n",
      "Epoch 60/100\n",
      "117/117 [==============================] - 2s 18ms/step - loss: 1.0604e-05\n",
      "Epoch 61/100\n",
      "117/117 [==============================] - 2s 17ms/step - loss: 1.0081e-05\n",
      "Epoch 62/100\n",
      "117/117 [==============================] - 2s 18ms/step - loss: 1.0896e-05\n",
      "Epoch 63/100\n",
      "117/117 [==============================] - 2s 17ms/step - loss: 1.0591e-05\n",
      "Epoch 64/100\n",
      "117/117 [==============================] - 2s 18ms/step - loss: 1.0048e-05\n",
      "Epoch 65/100\n",
      "117/117 [==============================] - 2s 18ms/step - loss: 1.0668e-05\n",
      "Epoch 66/100\n",
      "117/117 [==============================] - 2s 18ms/step - loss: 9.9397e-06\n",
      "Epoch 67/100\n",
      "117/117 [==============================] - 2s 18ms/step - loss: 1.0686e-05\n",
      "Epoch 68/100\n",
      "117/117 [==============================] - 2s 17ms/step - loss: 1.0101e-05\n",
      "Epoch 69/100\n",
      "117/117 [==============================] - 2s 18ms/step - loss: 9.7821e-06\n",
      "Epoch 70/100\n",
      "117/117 [==============================] - 2s 18ms/step - loss: 1.0477e-05\n",
      "Epoch 71/100\n",
      "117/117 [==============================] - 2s 18ms/step - loss: 1.0091e-05\n",
      "Epoch 72/100\n",
      "117/117 [==============================] - 2s 17ms/step - loss: 1.0116e-05\n",
      "Epoch 73/100\n",
      "117/117 [==============================] - 2s 17ms/step - loss: 1.0229e-05\n",
      "Epoch 74/100\n",
      "117/117 [==============================] - 2s 18ms/step - loss: 1.0129e-05\n",
      "Epoch 75/100\n",
      "117/117 [==============================] - 2s 18ms/step - loss: 9.9469e-06\n",
      "Epoch 76/100\n",
      "117/117 [==============================] - 2s 18ms/step - loss: 9.7063e-06\n",
      "Epoch 77/100\n",
      "117/117 [==============================] - 2s 18ms/step - loss: 1.0709e-05\n",
      "Epoch 78/100\n",
      "117/117 [==============================] - 2s 19ms/step - loss: 9.6216e-06\n",
      "Epoch 79/100\n",
      "117/117 [==============================] - 2s 18ms/step - loss: 1.0597e-05\n",
      "Epoch 80/100\n",
      "117/117 [==============================] - 2s 18ms/step - loss: 9.4149e-06\n",
      "Epoch 81/100\n",
      "117/117 [==============================] - 2s 18ms/step - loss: 1.0712e-05\n",
      "Epoch 82/100\n",
      "117/117 [==============================] - 2s 18ms/step - loss: 1.0275e-05\n",
      "Epoch 83/100\n",
      "117/117 [==============================] - 2s 18ms/step - loss: 1.0110e-05\n",
      "Epoch 84/100\n",
      "117/117 [==============================] - 2s 18ms/step - loss: 1.0016e-05\n",
      "Epoch 85/100\n",
      "117/117 [==============================] - 2s 18ms/step - loss: 1.0282e-05\n",
      "Epoch 86/100\n",
      "117/117 [==============================] - 2s 18ms/step - loss: 9.7720e-06\n",
      "Epoch 87/100\n",
      "117/117 [==============================] - 2s 18ms/step - loss: 9.8630e-06\n",
      "Epoch 88/100\n",
      "117/117 [==============================] - 2s 18ms/step - loss: 9.2154e-06\n",
      "Epoch 89/100\n",
      "117/117 [==============================] - 2s 18ms/step - loss: 1.0310e-05\n",
      "Epoch 90/100\n",
      "117/117 [==============================] - 2s 18ms/step - loss: 9.2312e-06\n",
      "Epoch 91/100\n",
      "117/117 [==============================] - 2s 18ms/step - loss: 1.0065e-05\n",
      "Epoch 92/100\n",
      "117/117 [==============================] - 2s 18ms/step - loss: 9.3078e-06\n",
      "Epoch 93/100\n",
      "117/117 [==============================] - 2s 18ms/step - loss: 9.5494e-06\n",
      "Epoch 94/100\n"
     ]
    },
    {
     "name": "stdout",
     "output_type": "stream",
     "text": [
      "117/117 [==============================] - 2s 18ms/step - loss: 9.4629e-06\n",
      "Epoch 95/100\n",
      "117/117 [==============================] - 2s 18ms/step - loss: 9.8367e-06\n",
      "Epoch 96/100\n",
      "117/117 [==============================] - 2s 18ms/step - loss: 9.6416e-06\n",
      "Epoch 97/100\n",
      "117/117 [==============================] - 2s 18ms/step - loss: 9.3333e-06\n",
      "Epoch 98/100\n",
      "117/117 [==============================] - 2s 18ms/step - loss: 1.0219e-05\n",
      "Epoch 99/100\n",
      "117/117 [==============================] - 2s 18ms/step - loss: 9.6391e-06\n",
      "Epoch 100/100\n",
      "117/117 [==============================] - 2s 18ms/step - loss: 9.8818e-06\n"
     ]
    },
    {
     "data": {
      "text/plain": [
       "<keras.callbacks.History at 0x2bd410f7b20>"
      ]
     },
     "execution_count": 215,
     "metadata": {},
     "output_type": "execute_result"
    }
   ],
   "source": [
    "model1.fit(X_train,y_train,batch_size=32,epochs=100)"
   ]
  },
  {
   "cell_type": "code",
   "execution_count": 216,
   "id": "377bcca1",
   "metadata": {},
   "outputs": [],
   "source": [
    "test = scalled_features[len(train_feature)-80:]"
   ]
  },
  {
   "cell_type": "code",
   "execution_count": 217,
   "id": "058280be",
   "metadata": {},
   "outputs": [],
   "source": [
    "X_test=  []\n",
    "for i in range(timesteps,len(test)):\n",
    "    X_test.append(test[i-timesteps:i,:])\n"
   ]
  },
  {
   "cell_type": "code",
   "execution_count": 218,
   "id": "a217a029",
   "metadata": {},
   "outputs": [],
   "source": [
    "X_test = np.array(X_test)\n",
    "X_test = X_test.reshape(X_test.shape[0],X_test.shape[1],4)"
   ]
  },
  {
   "cell_type": "code",
   "execution_count": 219,
   "id": "d38146de",
   "metadata": {},
   "outputs": [
    {
     "name": "stdout",
     "output_type": "stream",
     "text": [
      "30/30 [==============================] - 1s 4ms/step\n"
     ]
    }
   ],
   "source": [
    "m1_prediction = model1.predict(X_test)\n",
    "normal_model1_price = scaller_target.inverse_transform(m1_prediction)\n"
   ]
  },
  {
   "cell_type": "code",
   "execution_count": 220,
   "id": "096ced2e",
   "metadata": {},
   "outputs": [],
   "source": [
    "test_normal_price = scaller_target.inverse_transform(test_target)"
   ]
  },
  {
   "cell_type": "code",
   "execution_count": 221,
   "id": "f050e3b2",
   "metadata": {},
   "outputs": [
    {
     "data": {
      "image/png": "[encoded data removed]",
      "text/plain": [
       "<Figure size 720x360 with 1 Axes>"
      ]
     },
     "metadata": {
      "needs_background": "light"
     },
     "output_type": "display_data"
    }
   ],
   "source": [
    "plt.figure(figsize=(10,5))\n",
    "plt.xlabel('days')\n",
    "plt.ylabel('Price')\n",
    "plt.plot(normal_model1_price,label='Predicted Values')\n",
    "plt.plot(test_normal_price,label='Real Value')\n",
    "plt.legend()\n",
    "plt.grid()\n",
    "plt.show()"
   ]
  },
  {
   "cell_type": "code",
   "execution_count": 237,
   "id": "750708fc",
   "metadata": {},
   "outputs": [],
   "source": [
    "from sklearn.metrics import r2_score\n",
    "rm1=r2_score(test_normal_price,normal_model1_price)"
   ]
  },
  {
   "cell_type": "markdown",
   "id": "5eb3d3c3",
   "metadata": {},
   "source": [
    "# model 2"
   ]
  },
  {
   "cell_type": "code",
   "execution_count": 223,
   "id": "6e64d334",
   "metadata": {},
   "outputs": [],
   "source": [
    "model2 = Sequential()\n",
    "model2.add(LSTM(32,activation='tanh',input_shape=(X_train.shape[1],4),return_sequences=False))\n",
    "model2.add(Dense(1))\n",
    "model2.compile(optimizer='adam',loss='mse')"
   ]
  },
  {
   "cell_type": "code",
   "execution_count": 224,
   "id": "2acc9d19",
   "metadata": {},
   "outputs": [
    {
     "name": "stdout",
     "output_type": "stream",
     "text": [
      "Epoch 1/150\n",
      "59/59 [==============================] - 3s 20ms/step - loss: 5.8002e-04\n",
      "Epoch 2/150\n",
      "59/59 [==============================] - 1s 19ms/step - loss: 2.9048e-05\n",
      "Epoch 3/150\n",
      "59/59 [==============================] - 1s 21ms/step - loss: 2.5767e-05\n",
      "Epoch 4/150\n",
      "59/59 [==============================] - 1s 21ms/step - loss: 2.3163e-05\n",
      "Epoch 5/150\n",
      "59/59 [==============================] - 1s 21ms/step - loss: 2.1725e-05\n",
      "Epoch 6/150\n",
      "59/59 [==============================] - 1s 19ms/step - loss: 2.0673e-05\n",
      "Epoch 7/150\n",
      "59/59 [==============================] - 1s 19ms/step - loss: 2.0449e-05\n",
      "Epoch 8/150\n",
      "59/59 [==============================] - 1s 20ms/step - loss: 1.9406e-05\n",
      "Epoch 9/150\n",
      "59/59 [==============================] - 1s 19ms/step - loss: 1.8408e-05\n",
      "Epoch 10/150\n",
      "59/59 [==============================] - 1s 21ms/step - loss: 1.8736e-05\n",
      "Epoch 11/150\n",
      "59/59 [==============================] - 1s 22ms/step - loss: 1.7952e-05\n",
      "Epoch 12/150\n",
      "59/59 [==============================] - 1s 21ms/step - loss: 1.7325e-05\n",
      "Epoch 13/150\n",
      "59/59 [==============================] - 1s 20ms/step - loss: 1.7201e-05\n",
      "Epoch 14/150\n",
      "59/59 [==============================] - 1s 21ms/step - loss: 1.6514e-05\n",
      "Epoch 15/150\n",
      "59/59 [==============================] - 1s 21ms/step - loss: 1.6970e-05\n",
      "Epoch 16/150\n",
      "59/59 [==============================] - 1s 20ms/step - loss: 1.6460e-05\n",
      "Epoch 17/150\n",
      "59/59 [==============================] - 1s 22ms/step - loss: 1.6224e-05\n",
      "Epoch 18/150\n",
      "59/59 [==============================] - 1s 21ms/step - loss: 1.5958e-05\n",
      "Epoch 19/150\n",
      "59/59 [==============================] - 1s 19ms/step - loss: 1.5690e-05\n",
      "Epoch 20/150\n",
      "59/59 [==============================] - 1s 19ms/step - loss: 1.5627e-05\n",
      "Epoch 21/150\n",
      "59/59 [==============================] - 1s 18ms/step - loss: 1.5159e-05\n",
      "Epoch 22/150\n",
      "59/59 [==============================] - 1s 20ms/step - loss: 1.5293e-05\n",
      "Epoch 23/150\n",
      "59/59 [==============================] - 1s 20ms/step - loss: 1.5440e-05\n",
      "Epoch 24/150\n",
      "59/59 [==============================] - 1s 20ms/step - loss: 1.5046e-05\n",
      "Epoch 25/150\n",
      "59/59 [==============================] - 1s 20ms/step - loss: 1.5054e-05\n",
      "Epoch 26/150\n",
      "59/59 [==============================] - 1s 19ms/step - loss: 1.4661e-05\n",
      "Epoch 27/150\n",
      "59/59 [==============================] - 1s 19ms/step - loss: 1.4478e-05\n",
      "Epoch 28/150\n",
      "59/59 [==============================] - 1s 19ms/step - loss: 1.4479e-05\n",
      "Epoch 29/150\n",
      "59/59 [==============================] - 1s 20ms/step - loss: 1.4651e-05\n",
      "Epoch 30/150\n",
      "59/59 [==============================] - 2s 32ms/step - loss: 1.4331e-05\n",
      "Epoch 31/150\n",
      "59/59 [==============================] - 1s 23ms/step - loss: 1.4232e-05\n",
      "Epoch 32/150\n",
      "59/59 [==============================] - 1s 22ms/step - loss: 1.4338e-05\n",
      "Epoch 33/150\n",
      "59/59 [==============================] - 2s 28ms/step - loss: 1.4541e-05\n",
      "Epoch 34/150\n",
      "59/59 [==============================] - 2s 36ms/step - loss: 1.4247e-05\n",
      "Epoch 35/150\n",
      "59/59 [==============================] - 2s 25ms/step - loss: 1.5089e-05\n",
      "Epoch 36/150\n",
      "59/59 [==============================] - 2s 25ms/step - loss: 1.3769e-05\n",
      "Epoch 37/150\n",
      "59/59 [==============================] - 1s 19ms/step - loss: 1.3992e-05\n",
      "Epoch 38/150\n",
      "59/59 [==============================] - 1s 20ms/step - loss: 1.3539e-05\n",
      "Epoch 39/150\n",
      "59/59 [==============================] - 1s 21ms/step - loss: 1.4379e-05\n",
      "Epoch 40/150\n",
      "59/59 [==============================] - 1s 20ms/step - loss: 1.4261e-05\n",
      "Epoch 41/150\n",
      "59/59 [==============================] - 1s 20ms/step - loss: 1.3279e-05\n",
      "Epoch 42/150\n",
      "59/59 [==============================] - 1s 20ms/step - loss: 1.3356e-05\n",
      "Epoch 43/150\n",
      "59/59 [==============================] - 1s 20ms/step - loss: 1.3561e-05\n",
      "Epoch 44/150\n",
      "59/59 [==============================] - 1s 19ms/step - loss: 1.3966e-05\n",
      "Epoch 45/150\n",
      "59/59 [==============================] - 1s 19ms/step - loss: 1.3382e-05\n",
      "Epoch 46/150\n",
      "59/59 [==============================] - 1s 19ms/step - loss: 1.3106e-05\n",
      "Epoch 47/150\n",
      "59/59 [==============================] - 1s 19ms/step - loss: 1.3487e-05\n",
      "Epoch 48/150\n",
      "59/59 [==============================] - 1s 19ms/step - loss: 1.2854e-05\n",
      "Epoch 49/150\n",
      "59/59 [==============================] - 1s 19ms/step - loss: 1.4645e-05\n",
      "Epoch 50/150\n",
      "59/59 [==============================] - 1s 20ms/step - loss: 1.2577e-05\n",
      "Epoch 51/150\n",
      "59/59 [==============================] - 1s 19ms/step - loss: 1.3197e-05\n",
      "Epoch 52/150\n",
      "59/59 [==============================] - 1s 20ms/step - loss: 1.2852e-05\n",
      "Epoch 53/150\n",
      "59/59 [==============================] - 1s 19ms/step - loss: 1.2018e-05\n",
      "Epoch 54/150\n",
      "59/59 [==============================] - 1s 20ms/step - loss: 1.2428e-05\n",
      "Epoch 55/150\n",
      "59/59 [==============================] - 1s 19ms/step - loss: 1.2877e-05\n",
      "Epoch 56/150\n",
      "59/59 [==============================] - 1s 19ms/step - loss: 1.2549e-05\n",
      "Epoch 57/150\n",
      "59/59 [==============================] - 1s 22ms/step - loss: 1.2642e-05\n",
      "Epoch 58/150\n",
      "59/59 [==============================] - 1s 21ms/step - loss: 1.1912e-05\n",
      "Epoch 59/150\n",
      "59/59 [==============================] - 1s 19ms/step - loss: 1.1703e-05\n",
      "Epoch 60/150\n",
      "59/59 [==============================] - 1s 19ms/step - loss: 1.2214e-05\n",
      "Epoch 61/150\n",
      "59/59 [==============================] - 1s 18ms/step - loss: 1.1404e-05\n",
      "Epoch 62/150\n",
      "59/59 [==============================] - 1s 19ms/step - loss: 1.1500e-05\n",
      "Epoch 63/150\n",
      "59/59 [==============================] - 1s 18ms/step - loss: 1.2226e-05\n",
      "Epoch 64/150\n",
      "59/59 [==============================] - 1s 18ms/step - loss: 1.2116e-05\n",
      "Epoch 65/150\n",
      "59/59 [==============================] - 1s 19ms/step - loss: 1.0981e-05\n",
      "Epoch 66/150\n",
      "59/59 [==============================] - 1s 19ms/step - loss: 1.1853e-05\n",
      "Epoch 67/150\n",
      "59/59 [==============================] - 1s 18ms/step - loss: 1.1423e-05\n",
      "Epoch 68/150\n",
      "59/59 [==============================] - 1s 20ms/step - loss: 1.1209e-05\n",
      "Epoch 69/150\n",
      "59/59 [==============================] - 1s 21ms/step - loss: 1.1206e-05\n",
      "Epoch 70/150\n",
      "59/59 [==============================] - 1s 21ms/step - loss: 1.1011e-05\n",
      "Epoch 71/150\n",
      "59/59 [==============================] - 1s 21ms/step - loss: 1.0443e-05\n",
      "Epoch 72/150\n",
      "59/59 [==============================] - 1s 22ms/step - loss: 1.0595e-05\n",
      "Epoch 73/150\n",
      "59/59 [==============================] - 1s 19ms/step - loss: 1.0866e-05\n",
      "Epoch 74/150\n",
      "59/59 [==============================] - 1s 20ms/step - loss: 1.0637e-05\n",
      "Epoch 75/150\n",
      "59/59 [==============================] - 1s 19ms/step - loss: 1.0809e-05\n",
      "Epoch 76/150\n",
      "59/59 [==============================] - 1s 22ms/step - loss: 1.0708e-05\n",
      "Epoch 77/150\n",
      "59/59 [==============================] - 1s 24ms/step - loss: 1.1389e-05\n",
      "Epoch 78/150\n",
      "59/59 [==============================] - 1s 22ms/step - loss: 1.0567e-05\n",
      "Epoch 79/150\n",
      "59/59 [==============================] - 1s 20ms/step - loss: 1.0617e-05\n",
      "Epoch 80/150\n",
      "59/59 [==============================] - 1s 20ms/step - loss: 1.0291e-05\n",
      "Epoch 81/150\n",
      "59/59 [==============================] - 1s 22ms/step - loss: 1.0818e-05\n",
      "Epoch 82/150\n",
      "59/59 [==============================] - 1s 20ms/step - loss: 1.1451e-05\n",
      "Epoch 83/150\n",
      "59/59 [==============================] - 1s 19ms/step - loss: 1.0596e-05\n",
      "Epoch 84/150\n",
      "59/59 [==============================] - 1s 20ms/step - loss: 1.0358e-05\n",
      "Epoch 85/150\n",
      "59/59 [==============================] - 1s 21ms/step - loss: 1.0148e-05\n",
      "Epoch 86/150\n",
      "59/59 [==============================] - 1s 20ms/step - loss: 1.0158e-05\n",
      "Epoch 87/150\n",
      "59/59 [==============================] - 1s 19ms/step - loss: 1.0143e-05\n",
      "Epoch 88/150\n",
      "59/59 [==============================] - 1s 19ms/step - loss: 1.0718e-05\n",
      "Epoch 89/150\n",
      "59/59 [==============================] - 1s 20ms/step - loss: 1.0426e-05\n",
      "Epoch 90/150\n",
      "59/59 [==============================] - 1s 20ms/step - loss: 9.7773e-06\n",
      "Epoch 91/150\n",
      "59/59 [==============================] - 1s 20ms/step - loss: 1.0831e-05\n",
      "Epoch 92/150\n",
      "59/59 [==============================] - 1s 21ms/step - loss: 1.0585e-05\n",
      "Epoch 93/150\n",
      "59/59 [==============================] - 1s 20ms/step - loss: 1.0129e-05\n",
      "Epoch 94/150\n",
      "59/59 [==============================] - 1s 20ms/step - loss: 1.1712e-05\n",
      "Epoch 95/150\n",
      "59/59 [==============================] - 1s 20ms/step - loss: 1.0443e-05\n",
      "Epoch 96/150\n"
     ]
    },
    {
     "name": "stdout",
     "output_type": "stream",
     "text": [
      "59/59 [==============================] - 1s 19ms/step - loss: 1.1171e-05\n",
      "Epoch 97/150\n",
      "59/59 [==============================] - 1s 19ms/step - loss: 1.0198e-05\n",
      "Epoch 98/150\n",
      "59/59 [==============================] - 1s 19ms/step - loss: 9.8235e-06\n",
      "Epoch 99/150\n",
      "59/59 [==============================] - 1s 19ms/step - loss: 9.7152e-06\n",
      "Epoch 100/150\n",
      "59/59 [==============================] - 1s 19ms/step - loss: 1.0013e-05\n",
      "Epoch 101/150\n",
      "59/59 [==============================] - 1s 19ms/step - loss: 1.0113e-05\n",
      "Epoch 102/150\n",
      "59/59 [==============================] - 1s 19ms/step - loss: 1.0251e-05\n",
      "Epoch 103/150\n",
      "59/59 [==============================] - 1s 19ms/step - loss: 1.0070e-05\n",
      "Epoch 104/150\n",
      "59/59 [==============================] - 1s 19ms/step - loss: 1.0832e-05\n",
      "Epoch 105/150\n",
      "59/59 [==============================] - 1s 19ms/step - loss: 1.0217e-05\n",
      "Epoch 106/150\n",
      "59/59 [==============================] - 1s 19ms/step - loss: 1.0526e-05\n",
      "Epoch 107/150\n",
      "59/59 [==============================] - 1s 19ms/step - loss: 9.6564e-06\n",
      "Epoch 108/150\n",
      "59/59 [==============================] - 1s 19ms/step - loss: 1.0073e-05\n",
      "Epoch 109/150\n",
      "59/59 [==============================] - 1s 19ms/step - loss: 1.0045e-05\n",
      "Epoch 110/150\n",
      "59/59 [==============================] - 1s 19ms/step - loss: 9.7480e-06\n",
      "Epoch 111/150\n",
      "59/59 [==============================] - 1s 19ms/step - loss: 1.0284e-05\n",
      "Epoch 112/150\n",
      "59/59 [==============================] - 1s 19ms/step - loss: 9.6537e-06\n",
      "Epoch 113/150\n",
      "59/59 [==============================] - 1s 19ms/step - loss: 1.0898e-05\n",
      "Epoch 114/150\n",
      "59/59 [==============================] - 1s 19ms/step - loss: 1.0031e-05\n",
      "Epoch 115/150\n",
      "59/59 [==============================] - 1s 19ms/step - loss: 9.5787e-06\n",
      "Epoch 116/150\n",
      "59/59 [==============================] - 1s 19ms/step - loss: 9.5624e-06\n",
      "Epoch 117/150\n",
      "59/59 [==============================] - 1s 19ms/step - loss: 9.6342e-06\n",
      "Epoch 118/150\n",
      "59/59 [==============================] - 1s 19ms/step - loss: 9.9237e-06\n",
      "Epoch 119/150\n",
      "59/59 [==============================] - 1s 19ms/step - loss: 1.0136e-05\n",
      "Epoch 120/150\n",
      "59/59 [==============================] - 1s 19ms/step - loss: 1.0003e-05\n",
      "Epoch 121/150\n",
      "59/59 [==============================] - 1s 19ms/step - loss: 9.8385e-06\n",
      "Epoch 122/150\n",
      "59/59 [==============================] - 1s 19ms/step - loss: 9.5158e-06\n",
      "Epoch 123/150\n",
      "59/59 [==============================] - 1s 19ms/step - loss: 9.3883e-06\n",
      "Epoch 124/150\n",
      "59/59 [==============================] - 1s 19ms/step - loss: 9.7455e-06\n",
      "Epoch 125/150\n",
      "59/59 [==============================] - 1s 19ms/step - loss: 1.0096e-05\n",
      "Epoch 126/150\n",
      "59/59 [==============================] - 1s 19ms/step - loss: 9.8065e-06\n",
      "Epoch 127/150\n",
      "59/59 [==============================] - 1s 19ms/step - loss: 9.2628e-06\n",
      "Epoch 128/150\n",
      "59/59 [==============================] - 1s 19ms/step - loss: 1.0426e-05\n",
      "Epoch 129/150\n",
      "59/59 [==============================] - 1s 19ms/step - loss: 1.0617e-05\n",
      "Epoch 130/150\n",
      "59/59 [==============================] - 1s 19ms/step - loss: 9.9228e-06\n",
      "Epoch 131/150\n",
      "59/59 [==============================] - 1s 19ms/step - loss: 9.5383e-06\n",
      "Epoch 132/150\n",
      "59/59 [==============================] - 1s 19ms/step - loss: 1.0142e-05\n",
      "Epoch 133/150\n",
      "59/59 [==============================] - 1s 19ms/step - loss: 9.5460e-06\n",
      "Epoch 134/150\n",
      "59/59 [==============================] - 1s 19ms/step - loss: 1.0055e-05\n",
      "Epoch 135/150\n",
      "59/59 [==============================] - 1s 19ms/step - loss: 9.3098e-06\n",
      "Epoch 136/150\n",
      "59/59 [==============================] - 1s 19ms/step - loss: 1.0100e-05\n",
      "Epoch 137/150\n",
      "59/59 [==============================] - 1s 20ms/step - loss: 9.6462e-06\n",
      "Epoch 138/150\n",
      "59/59 [==============================] - 1s 20ms/step - loss: 9.6308e-06\n",
      "Epoch 139/150\n",
      "59/59 [==============================] - 1s 20ms/step - loss: 9.6603e-06\n",
      "Epoch 140/150\n",
      "59/59 [==============================] - 1s 19ms/step - loss: 9.7616e-06\n",
      "Epoch 141/150\n",
      "59/59 [==============================] - 1s 19ms/step - loss: 1.0057e-05\n",
      "Epoch 142/150\n",
      "59/59 [==============================] - 1s 19ms/step - loss: 1.0286e-05\n",
      "Epoch 143/150\n",
      "59/59 [==============================] - 1s 21ms/step - loss: 9.3264e-06\n",
      "Epoch 144/150\n",
      "59/59 [==============================] - 1s 20ms/step - loss: 9.5298e-06\n",
      "Epoch 145/150\n",
      "59/59 [==============================] - 1s 21ms/step - loss: 9.5950e-06\n",
      "Epoch 146/150\n",
      "59/59 [==============================] - 1s 21ms/step - loss: 9.3116e-06\n",
      "Epoch 147/150\n",
      "59/59 [==============================] - 1s 20ms/step - loss: 9.2398e-06\n",
      "Epoch 148/150\n",
      "59/59 [==============================] - 1s 19ms/step - loss: 9.7868e-06\n",
      "Epoch 149/150\n",
      "59/59 [==============================] - 1s 20ms/step - loss: 9.2330e-06\n",
      "Epoch 150/150\n",
      "59/59 [==============================] - 1s 22ms/step - loss: 9.4225e-06\n"
     ]
    },
    {
     "data": {
      "text/plain": [
       "<keras.callbacks.History at 0x2bd45a24af0>"
      ]
     },
     "execution_count": 224,
     "metadata": {},
     "output_type": "execute_result"
    }
   ],
   "source": [
    "model2.fit(X_train,y_train,batch_size=64,epochs=150)"
   ]
  },
  {
   "cell_type": "code",
   "execution_count": 225,
   "id": "810d1f90",
   "metadata": {},
   "outputs": [
    {
     "name": "stdout",
     "output_type": "stream",
     "text": [
      "30/30 [==============================] - 1s 7ms/step\n"
     ]
    }
   ],
   "source": [
    "m2_prediction = model2.predict(X_test)\n",
    "normal_model2_price = scaller_target.inverse_transform(m2_prediction)\n"
   ]
  },
  {
   "cell_type": "code",
   "execution_count": 226,
   "id": "09ec9ae4",
   "metadata": {},
   "outputs": [
    {
     "data": {
      "image/png": "[encoded data removed]",
      "text/plain": [
       "<Figure size 720x360 with 1 Axes>"
      ]
     },
     "metadata": {
      "needs_background": "light"
     },
     "output_type": "display_data"
    }
   ],
   "source": [
    "plt.figure(figsize=(10,5))\n",
    "plt.xlabel('days')\n",
    "plt.ylabel('Price')\n",
    "plt.plot(normal_model2_price,label='Predicted Values')\n",
    "plt.plot(test_normal_price,label='Real Value')\n",
    "plt.legend()\n",
    "plt.grid()\n",
    "plt.show()"
   ]
  },
  {
   "cell_type": "code",
   "execution_count": 238,
   "id": "7b55a902",
   "metadata": {},
   "outputs": [],
   "source": [
    "rm2=r2_score(test_normal_price,normal_model2_price)"
   ]
  },
  {
   "cell_type": "markdown",
   "id": "b5fdc38a",
   "metadata": {},
   "source": [
    "# model 3"
   ]
  },
  {
   "cell_type": "code",
   "execution_count": 229,
   "id": "bb72c832",
   "metadata": {},
   "outputs": [],
   "source": [
    "model3 = Sequential()\n",
    "model3.add(LSTM(16,activation='tanh',input_shape=(X_train.shape[1],4),return_sequences=True))\n",
    "model3.add(LSTM(8,activation='tanh',return_sequences=False))\n",
    "model3.add(Dense(1))\n",
    "model3.compile(optimizer='adam',loss='mse')"
   ]
  },
  {
   "cell_type": "code",
   "execution_count": 230,
   "id": "9f4c69e0",
   "metadata": {},
   "outputs": [
    {
     "name": "stdout",
     "output_type": "stream",
     "text": [
      "Epoch 1/100\n",
      "117/117 [==============================] - 7s 33ms/step - loss: 1.0186e-04\n",
      "Epoch 2/100\n",
      "117/117 [==============================] - 4s 34ms/step - loss: 2.5292e-05\n",
      "Epoch 3/100\n",
      "117/117 [==============================] - 4s 34ms/step - loss: 2.3120e-05\n",
      "Epoch 4/100\n",
      "117/117 [==============================] - 4s 34ms/step - loss: 2.3693e-05\n",
      "Epoch 5/100\n",
      "117/117 [==============================] - 4s 33ms/step - loss: 2.2214e-05\n",
      "Epoch 6/100\n",
      "117/117 [==============================] - 4s 34ms/step - loss: 2.0253e-05\n",
      "Epoch 7/100\n",
      "117/117 [==============================] - 4s 34ms/step - loss: 1.9602e-05\n",
      "Epoch 8/100\n",
      "117/117 [==============================] - 4s 35ms/step - loss: 1.9229e-05\n",
      "Epoch 9/100\n",
      "117/117 [==============================] - 4s 34ms/step - loss: 1.8906e-05\n",
      "Epoch 10/100\n",
      "117/117 [==============================] - 4s 34ms/step - loss: 1.8782e-05\n",
      "Epoch 11/100\n",
      "117/117 [==============================] - 4s 34ms/step - loss: 1.8113e-05\n",
      "Epoch 12/100\n",
      "117/117 [==============================] - 4s 34ms/step - loss: 1.7005e-05\n",
      "Epoch 13/100\n",
      "117/117 [==============================] - 4s 34ms/step - loss: 1.7881e-05\n",
      "Epoch 14/100\n",
      "117/117 [==============================] - 4s 34ms/step - loss: 1.6919e-05\n",
      "Epoch 15/100\n",
      "117/117 [==============================] - 4s 34ms/step - loss: 1.6328e-05\n",
      "Epoch 16/100\n",
      "117/117 [==============================] - 4s 34ms/step - loss: 1.7545e-05\n",
      "Epoch 17/100\n",
      "117/117 [==============================] - 4s 34ms/step - loss: 1.6232e-05\n",
      "Epoch 18/100\n",
      "117/117 [==============================] - 4s 34ms/step - loss: 1.6222e-05\n",
      "Epoch 19/100\n",
      "117/117 [==============================] - 4s 33ms/step - loss: 1.6907e-05\n",
      "Epoch 20/100\n",
      "117/117 [==============================] - 4s 34ms/step - loss: 1.5944e-05\n",
      "Epoch 21/100\n",
      "117/117 [==============================] - 4s 34ms/step - loss: 1.4481e-05\n",
      "Epoch 22/100\n",
      "117/117 [==============================] - 4s 34ms/step - loss: 1.4755e-05\n",
      "Epoch 23/100\n",
      "117/117 [==============================] - 4s 35ms/step - loss: 1.4015e-05\n",
      "Epoch 24/100\n",
      "117/117 [==============================] - 4s 35ms/step - loss: 1.5432e-05\n",
      "Epoch 25/100\n",
      "117/117 [==============================] - 4s 34ms/step - loss: 1.5807e-05\n",
      "Epoch 26/100\n",
      "117/117 [==============================] - 4s 34ms/step - loss: 1.4372e-05\n",
      "Epoch 27/100\n",
      "117/117 [==============================] - 4s 34ms/step - loss: 1.4139e-05\n",
      "Epoch 28/100\n",
      "117/117 [==============================] - 4s 34ms/step - loss: 1.4204e-05\n",
      "Epoch 29/100\n",
      "117/117 [==============================] - 4s 34ms/step - loss: 1.3859e-05\n",
      "Epoch 30/100\n",
      "117/117 [==============================] - 4s 34ms/step - loss: 1.3492e-05\n",
      "Epoch 31/100\n",
      "117/117 [==============================] - 4s 34ms/step - loss: 1.3481e-05\n",
      "Epoch 32/100\n",
      "117/117 [==============================] - 4s 34ms/step - loss: 1.3154e-05\n",
      "Epoch 33/100\n",
      "117/117 [==============================] - 4s 34ms/step - loss: 1.3811e-05\n",
      "Epoch 34/100\n",
      "117/117 [==============================] - 4s 34ms/step - loss: 1.3466e-05\n",
      "Epoch 35/100\n",
      "117/117 [==============================] - 4s 34ms/step - loss: 1.3291e-05\n",
      "Epoch 36/100\n",
      "117/117 [==============================] - 4s 35ms/step - loss: 1.3229e-05\n",
      "Epoch 37/100\n",
      "117/117 [==============================] - 4s 34ms/step - loss: 1.2814e-05\n",
      "Epoch 38/100\n",
      "117/117 [==============================] - 4s 32ms/step - loss: 1.2477e-05\n",
      "Epoch 39/100\n",
      "117/117 [==============================] - 4s 34ms/step - loss: 1.2697e-05\n",
      "Epoch 40/100\n",
      "117/117 [==============================] - 4s 34ms/step - loss: 1.2506e-05\n",
      "Epoch 41/100\n",
      "117/117 [==============================] - 4s 34ms/step - loss: 1.2639e-05\n",
      "Epoch 42/100\n",
      "117/117 [==============================] - 4s 34ms/step - loss: 1.2584e-05\n",
      "Epoch 43/100\n",
      "117/117 [==============================] - 4s 34ms/step - loss: 1.2395e-05\n",
      "Epoch 44/100\n",
      "117/117 [==============================] - 4s 35ms/step - loss: 1.1937e-05\n",
      "Epoch 45/100\n",
      "117/117 [==============================] - 4s 36ms/step - loss: 1.2451e-05\n",
      "Epoch 46/100\n",
      "117/117 [==============================] - 4s 35ms/step - loss: 1.1789e-05\n",
      "Epoch 47/100\n",
      "117/117 [==============================] - 4s 36ms/step - loss: 1.2155e-05\n",
      "Epoch 48/100\n",
      "117/117 [==============================] - 4s 35ms/step - loss: 1.1634e-05\n",
      "Epoch 49/100\n",
      "117/117 [==============================] - 4s 34ms/step - loss: 1.1845e-05\n",
      "Epoch 50/100\n",
      "117/117 [==============================] - 4s 35ms/step - loss: 1.1690e-05\n",
      "Epoch 51/100\n",
      "117/117 [==============================] - 4s 34ms/step - loss: 1.1349e-05\n",
      "Epoch 52/100\n",
      "117/117 [==============================] - 4s 33ms/step - loss: 1.1562e-05\n",
      "Epoch 53/100\n",
      "117/117 [==============================] - 4s 33ms/step - loss: 1.1486e-05\n",
      "Epoch 54/100\n",
      "117/117 [==============================] - 4s 33ms/step - loss: 1.1109e-05\n",
      "Epoch 55/100\n",
      "117/117 [==============================] - 4s 33ms/step - loss: 1.1236e-05\n",
      "Epoch 56/100\n",
      "117/117 [==============================] - 4s 33ms/step - loss: 1.1012e-05\n",
      "Epoch 57/100\n",
      "117/117 [==============================] - 4s 35ms/step - loss: 1.1175e-05\n",
      "Epoch 58/100\n",
      "117/117 [==============================] - 4s 35ms/step - loss: 1.1203e-05\n",
      "Epoch 59/100\n",
      "117/117 [==============================] - 4s 35ms/step - loss: 1.0672e-05\n",
      "Epoch 60/100\n",
      "117/117 [==============================] - 4s 36ms/step - loss: 1.0355e-05\n",
      "Epoch 61/100\n",
      "117/117 [==============================] - 4s 34ms/step - loss: 1.1247e-05\n",
      "Epoch 62/100\n",
      "117/117 [==============================] - 4s 36ms/step - loss: 1.0471e-05\n",
      "Epoch 63/100\n",
      "117/117 [==============================] - 4s 35ms/step - loss: 1.0284e-05\n",
      "Epoch 64/100\n",
      "117/117 [==============================] - 4s 37ms/step - loss: 1.1041e-05\n",
      "Epoch 65/100\n",
      "117/117 [==============================] - 4s 36ms/step - loss: 1.0421e-05\n",
      "Epoch 66/100\n",
      "117/117 [==============================] - 4s 35ms/step - loss: 1.0143e-05\n",
      "Epoch 67/100\n",
      "117/117 [==============================] - 4s 35ms/step - loss: 9.9397e-06\n",
      "Epoch 68/100\n",
      "117/117 [==============================] - 4s 34ms/step - loss: 1.0085e-05\n",
      "Epoch 69/100\n",
      "117/117 [==============================] - 4s 34ms/step - loss: 1.0106e-05\n",
      "Epoch 70/100\n",
      "117/117 [==============================] - 4s 34ms/step - loss: 1.0570e-05\n",
      "Epoch 71/100\n",
      "117/117 [==============================] - 4s 34ms/step - loss: 1.1026e-05\n",
      "Epoch 72/100\n",
      "117/117 [==============================] - 4s 34ms/step - loss: 1.0305e-05\n",
      "Epoch 73/100\n",
      "117/117 [==============================] - 4s 34ms/step - loss: 1.0813e-05\n",
      "Epoch 74/100\n",
      "117/117 [==============================] - 4s 34ms/step - loss: 1.0279e-05\n",
      "Epoch 75/100\n",
      "117/117 [==============================] - 4s 35ms/step - loss: 1.0057e-05\n",
      "Epoch 76/100\n",
      "117/117 [==============================] - 4s 34ms/step - loss: 1.0363e-05\n",
      "Epoch 77/100\n",
      "117/117 [==============================] - 4s 34ms/step - loss: 1.0046e-05\n",
      "Epoch 78/100\n",
      "117/117 [==============================] - 4s 34ms/step - loss: 1.0654e-05\n",
      "Epoch 79/100\n",
      "117/117 [==============================] - 4s 34ms/step - loss: 9.8925e-06\n",
      "Epoch 80/100\n",
      "117/117 [==============================] - 4s 34ms/step - loss: 9.9069e-06\n",
      "Epoch 81/100\n",
      "117/117 [==============================] - 5s 42ms/step - loss: 1.0412e-05\n",
      "Epoch 82/100\n",
      "117/117 [==============================] - 4s 37ms/step - loss: 1.0135e-05\n",
      "Epoch 83/100\n",
      "117/117 [==============================] - 4s 36ms/step - loss: 9.9036e-06\n",
      "Epoch 84/100\n",
      "117/117 [==============================] - 4s 34ms/step - loss: 1.0299e-05\n",
      "Epoch 85/100\n",
      "117/117 [==============================] - 4s 35ms/step - loss: 9.9628e-06\n",
      "Epoch 86/100\n",
      "117/117 [==============================] - 4s 36ms/step - loss: 9.8730e-06\n",
      "Epoch 87/100\n",
      "117/117 [==============================] - 4s 36ms/step - loss: 9.7440e-06\n",
      "Epoch 88/100\n",
      "117/117 [==============================] - 5s 39ms/step - loss: 9.4616e-06\n",
      "Epoch 89/100\n",
      "117/117 [==============================] - 4s 36ms/step - loss: 1.0072e-05\n",
      "Epoch 90/100\n",
      "117/117 [==============================] - 4s 37ms/step - loss: 1.0534e-05\n",
      "Epoch 91/100\n",
      "117/117 [==============================] - 4s 36ms/step - loss: 9.8689e-06\n",
      "Epoch 92/100\n",
      "117/117 [==============================] - 4s 36ms/step - loss: 1.0777e-05\n",
      "Epoch 93/100\n",
      "117/117 [==============================] - 4s 34ms/step - loss: 9.4361e-06\n",
      "Epoch 94/100\n"
     ]
    },
    {
     "name": "stdout",
     "output_type": "stream",
     "text": [
      "117/117 [==============================] - 4s 33ms/step - loss: 9.7440e-06\n",
      "Epoch 95/100\n",
      "117/117 [==============================] - 4s 35ms/step - loss: 1.0552e-05\n",
      "Epoch 96/100\n",
      "117/117 [==============================] - 4s 35ms/step - loss: 9.7930e-06\n",
      "Epoch 97/100\n",
      "117/117 [==============================] - 4s 35ms/step - loss: 9.4062e-06\n",
      "Epoch 98/100\n",
      "117/117 [==============================] - 4s 34ms/step - loss: 9.7000e-06\n",
      "Epoch 99/100\n",
      "117/117 [==============================] - 4s 35ms/step - loss: 9.6663e-06\n",
      "Epoch 100/100\n",
      "117/117 [==============================] - 4s 35ms/step - loss: 1.0010e-05\n"
     ]
    },
    {
     "data": {
      "text/plain": [
       "<keras.callbacks.History at 0x2bd49ebc850>"
      ]
     },
     "execution_count": 230,
     "metadata": {},
     "output_type": "execute_result"
    }
   ],
   "source": [
    "model3.fit(X_train,y_train,batch_size=32,epochs=100)"
   ]
  },
  {
   "cell_type": "code",
   "execution_count": 231,
   "id": "c4241c1d",
   "metadata": {},
   "outputs": [
    {
     "name": "stdout",
     "output_type": "stream",
     "text": [
      "30/30 [==============================] - 1s 8ms/step\n"
     ]
    }
   ],
   "source": [
    "m3_prediction = model3.predict(X_test)\n",
    "normal_model3_price = scaller_target.inverse_transform(m3_prediction)\n"
   ]
  },
  {
   "cell_type": "code",
   "execution_count": 232,
   "id": "97943494",
   "metadata": {},
   "outputs": [
    {
     "data": {
      "image/png": "[encoded data removed]",
      "text/plain": [
       "<Figure size 720x360 with 1 Axes>"
      ]
     },
     "metadata": {
      "needs_background": "light"
     },
     "output_type": "display_data"
    }
   ],
   "source": [
    "plt.figure(figsize=(10,5))\n",
    "plt.xlabel('days')\n",
    "plt.ylabel('Price')\n",
    "plt.plot(normal_model3_price,label='Predicted Values')\n",
    "plt.plot(test_normal_price,label='Real Value')\n",
    "plt.legend()\n",
    "plt.grid()\n",
    "plt.show()"
   ]
  },
  {
   "cell_type": "code",
   "execution_count": 239,
   "id": "a8a71422",
   "metadata": {},
   "outputs": [],
   "source": [
    "rm3=r2_score(test_normal_price,normal_model3_price)"
   ]
  },
  {
   "cell_type": "code",
   "execution_count": 241,
   "id": "ffe17afa",
   "metadata": {},
   "outputs": [
    {
     "data": {
      "image/png": "[encoded data removed]",
      "text/plain": [
       "<Figure size 2000x1000 with 1 Axes>"
      ]
     },
     "metadata": {
      "needs_background": "light"
     },
     "output_type": "display_data"
    }
   ],
   "source": [
    "plt.figure(figsize=(20,10),dpi=100)\n",
    "plt.xlabel('days')\n",
    "plt.ylabel('Price')\n",
    "plt.plot(normal_model3_price,label='Predicted Values model 3')\n",
    "plt.plot(normal_model2_price,label='Predicted Values model 2')\n",
    "plt.plot(normal_model1_price,label='Predicted Values model 1')\n",
    "plt.plot(test_normal_price,label='Real Value')\n",
    "plt.legend()\n",
    "plt.grid()\n",
    "plt.show()"
   ]
  },
  {
   "cell_type": "code",
   "execution_count": 242,
   "id": "77a0c71b",
   "metadata": {},
   "outputs": [
    {
     "data": {
      "text/html": [
       "<div>\n",
       "<style scoped>\n",
       "    .dataframe tbody tr th:only-of-type {\n",
       "        vertical-align: middle;\n",
       "    }\n",
       "\n",
       "    .dataframe tbody tr th {\n",
       "        vertical-align: top;\n",
       "    }\n",
       "\n",
       "    .dataframe thead th {\n",
       "        text-align: right;\n",
       "    }\n",
       "</style>\n",
       "<table border=\"1\" class=\"dataframe\">\n",
       "  <thead>\n",
       "    <tr style=\"text-align: right;\">\n",
       "      <th></th>\n",
       "      <th>Model 1 Score</th>\n",
       "      <th>Model 2 Score</th>\n",
       "      <th>Model 3 Score</th>\n",
       "    </tr>\n",
       "  </thead>\n",
       "  <tbody>\n",
       "    <tr>\n",
       "      <th>R2Score</th>\n",
       "      <td>0.468094</td>\n",
       "      <td>0.548805</td>\n",
       "      <td>0.444383</td>\n",
       "    </tr>\n",
       "  </tbody>\n",
       "</table>\n",
       "</div>"
      ],
      "text/plain": [
       "         Model 1 Score  Model 2 Score   Model 3 Score\n",
       "R2Score       0.468094        0.548805       0.444383"
      ]
     },
     "execution_count": 242,
     "metadata": {},
     "output_type": "execute_result"
    }
   ],
   "source": [
    "pd.DataFrame({\"Model 1 Score\": rm1,'Model 2 Score ': rm2,'Model 3 Score': rm3},index=['R2Score'])"
   ]
  },
  {
   "cell_type": "code",
   "execution_count": null,
   "id": "b929a370",
   "metadata": {},
   "outputs": [],
   "source": []
  }
 ],
 "metadata": {
  "kernelspec": {
   "display_name": "Python 3 (ipykernel)",
   "language": "python",
   "name": "python3"
  },
  "language_info": {
   "codemirror_mode": {
    "name": "ipython",
    "version": 3
   },
   "file_extension": ".py",
   "mimetype": "text/x-python",
   "name": "python",
   "nbconvert_exporter": "python",
   "pygments_lexer": "ipython3",
   "version": "3.9.12"
  }
 },
 "nbformat": 4,
 "nbformat_minor": 5
}
