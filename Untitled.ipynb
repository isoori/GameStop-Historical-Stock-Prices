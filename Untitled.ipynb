{
 "cells": [
  {
   "cell_type": "code",
   "execution_count": 191,
   "id": "c24d7839",
   "metadata": {},
   "outputs": [],
   "source": [
    "import numpy as np #Importing Library\n",
    "import pandas as pd\n",
    "\n",
    "import matplotlib.pyplot as plt \n",
    "import seaborn as sns\n",
    "\n",
    "from sklearn.preprocessing import MinMaxScaler\n",
    "from keras.layers import LSTM,Dense\n",
    "from keras.models import Sequential"
   ]
  },
  {
   "cell_type": "code",
   "execution_count": 192,
   "id": "df046bf6",
   "metadata": {},
   "outputs": [
    {
     "data": {
      "text/html": [
       "<div>\n",
       "<style scoped>\n",
       "    .dataframe tbody tr th:only-of-type {\n",
       "        vertical-align: middle;\n",
       "    }\n",
       "\n",
       "    .dataframe tbody tr th {\n",
       "        vertical-align: top;\n",
       "    }\n",
       "\n",
       "    .dataframe thead th {\n",
       "        text-align: right;\n",
       "    }\n",
       "</style>\n",
       "<table border=\"1\" class=\"dataframe\">\n",
       "  <thead>\n",
       "    <tr style=\"text-align: right;\">\n",
       "      <th></th>\n",
       "      <th>date</th>\n",
       "      <th>open_price</th>\n",
       "      <th>high_price</th>\n",
       "      <th>low_price</th>\n",
       "      <th>close_price</th>\n",
       "      <th>volume</th>\n",
       "      <th>adjclose_price</th>\n",
       "    </tr>\n",
       "  </thead>\n",
       "  <tbody>\n",
       "    <tr>\n",
       "      <th>0</th>\n",
       "      <td>2021-01-28</td>\n",
       "      <td>265.000000</td>\n",
       "      <td>483.000000</td>\n",
       "      <td>112.250000</td>\n",
       "      <td>193.600006</td>\n",
       "      <td>58815800.0</td>\n",
       "      <td>193.600006</td>\n",
       "    </tr>\n",
       "    <tr>\n",
       "      <th>1</th>\n",
       "      <td>2021-01-27</td>\n",
       "      <td>354.829987</td>\n",
       "      <td>380.000000</td>\n",
       "      <td>249.000000</td>\n",
       "      <td>347.510010</td>\n",
       "      <td>93396700.0</td>\n",
       "      <td>347.510010</td>\n",
       "    </tr>\n",
       "    <tr>\n",
       "      <th>2</th>\n",
       "      <td>2021-01-26</td>\n",
       "      <td>88.559998</td>\n",
       "      <td>150.000000</td>\n",
       "      <td>80.199997</td>\n",
       "      <td>147.979996</td>\n",
       "      <td>178588000.0</td>\n",
       "      <td>147.979996</td>\n",
       "    </tr>\n",
       "    <tr>\n",
       "      <th>3</th>\n",
       "      <td>2021-01-25</td>\n",
       "      <td>96.730003</td>\n",
       "      <td>159.179993</td>\n",
       "      <td>61.130001</td>\n",
       "      <td>76.790001</td>\n",
       "      <td>177874000.0</td>\n",
       "      <td>76.790001</td>\n",
       "    </tr>\n",
       "    <tr>\n",
       "      <th>4</th>\n",
       "      <td>2021-01-22</td>\n",
       "      <td>42.590000</td>\n",
       "      <td>76.760002</td>\n",
       "      <td>42.320000</td>\n",
       "      <td>65.010002</td>\n",
       "      <td>196784300.0</td>\n",
       "      <td>65.010002</td>\n",
       "    </tr>\n",
       "  </tbody>\n",
       "</table>\n",
       "</div>"
      ],
      "text/plain": [
       "         date  open_price  high_price   low_price  close_price       volume  \\\n",
       "0  2021-01-28  265.000000  483.000000  112.250000   193.600006   58815800.0   \n",
       "1  2021-01-27  354.829987  380.000000  249.000000   347.510010   93396700.0   \n",
       "2  2021-01-26   88.559998  150.000000   80.199997   147.979996  178588000.0   \n",
       "3  2021-01-25   96.730003  159.179993   61.130001    76.790001  177874000.0   \n",
       "4  2021-01-22   42.590000   76.760002   42.320000    65.010002  196784300.0   \n",
       "\n",
       "   adjclose_price  \n",
       "0      193.600006  \n",
       "1      347.510010  \n",
       "2      147.979996  \n",
       "3       76.790001  \n",
       "4       65.010002  "
      ]
     },
     "execution_count": 192,
     "metadata": {},
     "output_type": "execute_result"
    }
   ],
   "source": [
    "df = pd.read_csv(\"GME_stock.csv\") #Loading Data\n",
    "df.head()"
   ]
  },
  {
   "cell_type": "code",
   "execution_count": 193,
   "id": "05587b1a",
   "metadata": {},
   "outputs": [
    {
     "name": "stdout",
     "output_type": "stream",
     "text": [
      "<class 'pandas.core.frame.DataFrame'>\n",
      "RangeIndex: 4773 entries, 0 to 4772\n",
      "Data columns (total 7 columns):\n",
      " #   Column          Non-Null Count  Dtype  \n",
      "---  ------          --------------  -----  \n",
      " 0   date            4773 non-null   object \n",
      " 1   open_price      4773 non-null   float64\n",
      " 2   high_price      4773 non-null   float64\n",
      " 3   low_price       4773 non-null   float64\n",
      " 4   close_price     4773 non-null   float64\n",
      " 5   volume          4773 non-null   float64\n",
      " 6   adjclose_price  4773 non-null   float64\n",
      "dtypes: float64(6), object(1)\n",
      "memory usage: 261.1+ KB\n"
     ]
    }
   ],
   "source": [
    "df.info()"
   ]
  },
  {
   "cell_type": "code",
   "execution_count": 194,
   "id": "4a55ffda",
   "metadata": {},
   "outputs": [],
   "source": [
    "df['date']=pd.to_datetime(df['date']) #Convert to DateTime"
   ]
  },
  {
   "cell_type": "code",
   "execution_count": 195,
   "id": "ba5fc7d4",
   "metadata": {},
   "outputs": [],
   "source": [
    "df.set_index('date',inplace=True) #Changing Date column to index"
   ]
  },
  {
   "cell_type": "code",
   "execution_count": 196,
   "id": "c5c372c4",
   "metadata": {},
   "outputs": [],
   "source": [
    "df = df.iloc[::-1] #Reversing DataFrame to be from old to new Date "
   ]
  },
  {
   "cell_type": "code",
   "execution_count": 197,
   "id": "09569c98",
   "metadata": {},
   "outputs": [
    {
     "data": {
      "text/html": [
       "<div>\n",
       "<style scoped>\n",
       "    .dataframe tbody tr th:only-of-type {\n",
       "        vertical-align: middle;\n",
       "    }\n",
       "\n",
       "    .dataframe tbody tr th {\n",
       "        vertical-align: top;\n",
       "    }\n",
       "\n",
       "    .dataframe thead th {\n",
       "        text-align: right;\n",
       "    }\n",
       "</style>\n",
       "<table border=\"1\" class=\"dataframe\">\n",
       "  <thead>\n",
       "    <tr style=\"text-align: right;\">\n",
       "      <th></th>\n",
       "      <th>open_price</th>\n",
       "      <th>high_price</th>\n",
       "      <th>low_price</th>\n",
       "      <th>close_price</th>\n",
       "      <th>volume</th>\n",
       "      <th>adjclose_price</th>\n",
       "    </tr>\n",
       "    <tr>\n",
       "      <th>date</th>\n",
       "      <th></th>\n",
       "      <th></th>\n",
       "      <th></th>\n",
       "      <th></th>\n",
       "      <th></th>\n",
       "      <th></th>\n",
       "    </tr>\n",
       "  </thead>\n",
       "  <tbody>\n",
       "    <tr>\n",
       "      <th>2002-02-13</th>\n",
       "      <td>9.625000</td>\n",
       "      <td>10.060000</td>\n",
       "      <td>9.525000</td>\n",
       "      <td>10.050000</td>\n",
       "      <td>19054000.0</td>\n",
       "      <td>6.766666</td>\n",
       "    </tr>\n",
       "    <tr>\n",
       "      <th>2002-02-14</th>\n",
       "      <td>10.175000</td>\n",
       "      <td>10.195000</td>\n",
       "      <td>9.925000</td>\n",
       "      <td>10.000000</td>\n",
       "      <td>2755400.0</td>\n",
       "      <td>6.733003</td>\n",
       "    </tr>\n",
       "    <tr>\n",
       "      <th>2002-02-15</th>\n",
       "      <td>10.000000</td>\n",
       "      <td>10.025000</td>\n",
       "      <td>9.850000</td>\n",
       "      <td>9.950000</td>\n",
       "      <td>2097400.0</td>\n",
       "      <td>6.699336</td>\n",
       "    </tr>\n",
       "    <tr>\n",
       "      <th>2002-02-19</th>\n",
       "      <td>9.900000</td>\n",
       "      <td>9.900000</td>\n",
       "      <td>9.375000</td>\n",
       "      <td>9.550000</td>\n",
       "      <td>1852600.0</td>\n",
       "      <td>6.430017</td>\n",
       "    </tr>\n",
       "    <tr>\n",
       "      <th>2002-02-20</th>\n",
       "      <td>9.600000</td>\n",
       "      <td>9.875000</td>\n",
       "      <td>9.525000</td>\n",
       "      <td>9.875000</td>\n",
       "      <td>1723200.0</td>\n",
       "      <td>6.648838</td>\n",
       "    </tr>\n",
       "    <tr>\n",
       "      <th>...</th>\n",
       "      <td>...</td>\n",
       "      <td>...</td>\n",
       "      <td>...</td>\n",
       "      <td>...</td>\n",
       "      <td>...</td>\n",
       "      <td>...</td>\n",
       "    </tr>\n",
       "    <tr>\n",
       "      <th>2021-01-22</th>\n",
       "      <td>42.590000</td>\n",
       "      <td>76.760002</td>\n",
       "      <td>42.320000</td>\n",
       "      <td>65.010002</td>\n",
       "      <td>196784300.0</td>\n",
       "      <td>65.010002</td>\n",
       "    </tr>\n",
       "    <tr>\n",
       "      <th>2021-01-25</th>\n",
       "      <td>96.730003</td>\n",
       "      <td>159.179993</td>\n",
       "      <td>61.130001</td>\n",
       "      <td>76.790001</td>\n",
       "      <td>177874000.0</td>\n",
       "      <td>76.790001</td>\n",
       "    </tr>\n",
       "    <tr>\n",
       "      <th>2021-01-26</th>\n",
       "      <td>88.559998</td>\n",
       "      <td>150.000000</td>\n",
       "      <td>80.199997</td>\n",
       "      <td>147.979996</td>\n",
       "      <td>178588000.0</td>\n",
       "      <td>147.979996</td>\n",
       "    </tr>\n",
       "    <tr>\n",
       "      <th>2021-01-27</th>\n",
       "      <td>354.829987</td>\n",
       "      <td>380.000000</td>\n",
       "      <td>249.000000</td>\n",
       "      <td>347.510010</td>\n",
       "      <td>93396700.0</td>\n",
       "      <td>347.510010</td>\n",
       "    </tr>\n",
       "    <tr>\n",
       "      <th>2021-01-28</th>\n",
       "      <td>265.000000</td>\n",
       "      <td>483.000000</td>\n",
       "      <td>112.250000</td>\n",
       "      <td>193.600006</td>\n",
       "      <td>58815800.0</td>\n",
       "      <td>193.600006</td>\n",
       "    </tr>\n",
       "  </tbody>\n",
       "</table>\n",
       "<p>4773 rows × 6 columns</p>\n",
       "</div>"
      ],
      "text/plain": [
       "            open_price  high_price   low_price  close_price       volume  \\\n",
       "date                                                                       \n",
       "2002-02-13    9.625000   10.060000    9.525000    10.050000   19054000.0   \n",
       "2002-02-14   10.175000   10.195000    9.925000    10.000000    2755400.0   \n",
       "2002-02-15   10.000000   10.025000    9.850000     9.950000    2097400.0   \n",
       "2002-02-19    9.900000    9.900000    9.375000     9.550000    1852600.0   \n",
       "2002-02-20    9.600000    9.875000    9.525000     9.875000    1723200.0   \n",
       "...                ...         ...         ...          ...          ...   \n",
       "2021-01-22   42.590000   76.760002   42.320000    65.010002  196784300.0   \n",
       "2021-01-25   96.730003  159.179993   61.130001    76.790001  177874000.0   \n",
       "2021-01-26   88.559998  150.000000   80.199997   147.979996  178588000.0   \n",
       "2021-01-27  354.829987  380.000000  249.000000   347.510010   93396700.0   \n",
       "2021-01-28  265.000000  483.000000  112.250000   193.600006   58815800.0   \n",
       "\n",
       "            adjclose_price  \n",
       "date                        \n",
       "2002-02-13        6.766666  \n",
       "2002-02-14        6.733003  \n",
       "2002-02-15        6.699336  \n",
       "2002-02-19        6.430017  \n",
       "2002-02-20        6.648838  \n",
       "...                    ...  \n",
       "2021-01-22       65.010002  \n",
       "2021-01-25       76.790001  \n",
       "2021-01-26      147.979996  \n",
       "2021-01-27      347.510010  \n",
       "2021-01-28      193.600006  \n",
       "\n",
       "[4773 rows x 6 columns]"
      ]
     },
     "execution_count": 197,
     "metadata": {},
     "output_type": "execute_result"
    }
   ],
   "source": [
    "df"
   ]
  },
  {
   "cell_type": "code",
   "execution_count": 198,
   "id": "437aec67",
   "metadata": {},
   "outputs": [
    {
     "data": {
      "image/png": "[encoded data removed]",
      "text/plain": [
       "<Figure size 700x350 with 1 Axes>"
      ]
     },
     "metadata": {
      "needs_background": "light"
     },
     "output_type": "display_data"
    }
   ],
   "source": [
    "plt.figure(figsize=(10,5),dpi=70)\n",
    "plt.plot(df['close_price'],label=\"CLOSE PRICE\")\n",
    "plt.plot(df['adjclose_price'],label=\"ADJ CLOSE PRICE\")\n",
    "plt.grid()\n",
    "plt.legend()\n",
    "plt.show()"
   ]
  },
  {
   "cell_type": "code",
   "execution_count": 199,
   "id": "688a15fd",
   "metadata": {},
   "outputs": [
    {
     "data": {
      "image/png": "[encoded data removed]",
      "text/plain": [
       "<Figure size 432x288 with 1 Axes>"
      ]
     },
     "metadata": {
      "needs_background": "light"
     },
     "output_type": "display_data"
    }
   ],
   "source": [
    "sns.barplot(x=df.index.month,y=df.volume,data=df)\n",
    "plt.grid()\n",
    "plt.show()"
   ]
  },
  {
   "cell_type": "code",
   "execution_count": 200,
   "id": "6fc7522b",
   "metadata": {},
   "outputs": [],
   "source": [
    "features = df.drop(['close_price','adjclose_price'],axis=1)\n",
    "target = df[['adjclose_price']]"
   ]
  },
  {
   "cell_type": "code",
   "execution_count": 201,
   "id": "b054612f",
   "metadata": {},
   "outputs": [
    {
     "data": {
      "text/html": [
       "<div>\n",
       "<style scoped>\n",
       "    .dataframe tbody tr th:only-of-type {\n",
       "        vertical-align: middle;\n",
       "    }\n",
       "\n",
       "    .dataframe tbody tr th {\n",
       "        vertical-align: top;\n",
       "    }\n",
       "\n",
       "    .dataframe thead th {\n",
       "        text-align: right;\n",
       "    }\n",
       "</style>\n",
       "<table border=\"1\" class=\"dataframe\">\n",
       "  <thead>\n",
       "    <tr style=\"text-align: right;\">\n",
       "      <th></th>\n",
       "      <th>open_price</th>\n",
       "      <th>high_price</th>\n",
       "      <th>low_price</th>\n",
       "      <th>volume</th>\n",
       "    </tr>\n",
       "    <tr>\n",
       "      <th>date</th>\n",
       "      <th></th>\n",
       "      <th></th>\n",
       "      <th></th>\n",
       "      <th></th>\n",
       "    </tr>\n",
       "  </thead>\n",
       "  <tbody>\n",
       "    <tr>\n",
       "      <th>2002-02-13</th>\n",
       "      <td>9.625</td>\n",
       "      <td>10.060</td>\n",
       "      <td>9.525</td>\n",
       "      <td>19054000.0</td>\n",
       "    </tr>\n",
       "    <tr>\n",
       "      <th>2002-02-14</th>\n",
       "      <td>10.175</td>\n",
       "      <td>10.195</td>\n",
       "      <td>9.925</td>\n",
       "      <td>2755400.0</td>\n",
       "    </tr>\n",
       "    <tr>\n",
       "      <th>2002-02-15</th>\n",
       "      <td>10.000</td>\n",
       "      <td>10.025</td>\n",
       "      <td>9.850</td>\n",
       "      <td>2097400.0</td>\n",
       "    </tr>\n",
       "    <tr>\n",
       "      <th>2002-02-19</th>\n",
       "      <td>9.900</td>\n",
       "      <td>9.900</td>\n",
       "      <td>9.375</td>\n",
       "      <td>1852600.0</td>\n",
       "    </tr>\n",
       "    <tr>\n",
       "      <th>2002-02-20</th>\n",
       "      <td>9.600</td>\n",
       "      <td>9.875</td>\n",
       "      <td>9.525</td>\n",
       "      <td>1723200.0</td>\n",
       "    </tr>\n",
       "  </tbody>\n",
       "</table>\n",
       "</div>"
      ],
      "text/plain": [
       "            open_price  high_price  low_price      volume\n",
       "date                                                     \n",
       "2002-02-13       9.625      10.060      9.525  19054000.0\n",
       "2002-02-14      10.175      10.195      9.925   2755400.0\n",
       "2002-02-15      10.000      10.025      9.850   2097400.0\n",
       "2002-02-19       9.900       9.900      9.375   1852600.0\n",
       "2002-02-20       9.600       9.875      9.525   1723200.0"
      ]
     },
     "execution_count": 201,
     "metadata": {},
     "output_type": "execute_result"
    }
   ],
   "source": [
    "features.head()"
   ]
  },
  {
   "cell_type": "code",
   "execution_count": 202,
   "id": "67f7b249",
   "metadata": {},
   "outputs": [
    {
     "data": {
      "text/html": [
       "<div>\n",
       "<style scoped>\n",
       "    .dataframe tbody tr th:only-of-type {\n",
       "        vertical-align: middle;\n",
       "    }\n",
       "\n",
       "    .dataframe tbody tr th {\n",
       "        vertical-align: top;\n",
       "    }\n",
       "\n",
       "    .dataframe thead th {\n",
       "        text-align: right;\n",
       "    }\n",
       "</style>\n",
       "<table border=\"1\" class=\"dataframe\">\n",
       "  <thead>\n",
       "    <tr style=\"text-align: right;\">\n",
       "      <th></th>\n",
       "      <th>adjclose_price</th>\n",
       "    </tr>\n",
       "    <tr>\n",
       "      <th>date</th>\n",
       "      <th></th>\n",
       "    </tr>\n",
       "  </thead>\n",
       "  <tbody>\n",
       "    <tr>\n",
       "      <th>2002-02-13</th>\n",
       "      <td>6.766666</td>\n",
       "    </tr>\n",
       "    <tr>\n",
       "      <th>2002-02-14</th>\n",
       "      <td>6.733003</td>\n",
       "    </tr>\n",
       "    <tr>\n",
       "      <th>2002-02-15</th>\n",
       "      <td>6.699336</td>\n",
       "    </tr>\n",
       "    <tr>\n",
       "      <th>2002-02-19</th>\n",
       "      <td>6.430017</td>\n",
       "    </tr>\n",
       "    <tr>\n",
       "      <th>2002-02-20</th>\n",
       "      <td>6.648838</td>\n",
       "    </tr>\n",
       "  </tbody>\n",
       "</table>\n",
       "</div>"
      ],
      "text/plain": [
       "            adjclose_price\n",
       "date                      \n",
       "2002-02-13        6.766666\n",
       "2002-02-14        6.733003\n",
       "2002-02-15        6.699336\n",
       "2002-02-19        6.430017\n",
       "2002-02-20        6.648838"
      ]
     },
     "execution_count": 202,
     "metadata": {},
     "output_type": "execute_result"
    }
   ],
   "source": [
    "target.head()"
   ]
  },
  {
   "cell_type": "code",
   "execution_count": 203,
   "id": "60ce6e82",
   "metadata": {},
   "outputs": [
    {
     "data": {
      "text/plain": [
       "array([[0.01924825, 0.01483148, 0.02822302, 0.0965284 ],\n",
       "       [0.02081084, 0.01511269, 0.0298462 , 0.01367634],\n",
       "       [0.02031366, 0.01475857, 0.02954186, 0.01033147],\n",
       "       ...,\n",
       "       [0.24350816, 0.30633671, 0.31501845, 0.9075012 ],\n",
       "       [1.        , 0.78544349, 1.        , 0.47444099],\n",
       "       [0.74478666, 1.        , 0.44507568, 0.29865295]])"
      ]
     },
     "execution_count": 203,
     "metadata": {},
     "output_type": "execute_result"
    }
   ],
   "source": [
    "scaller_data = MinMaxScaler(feature_range=(0,1)) #Standarlized Features\n",
    "scalled_features = scaller_data.fit_transform(features)\n",
    "scalled_features"
   ]
  },
  {
   "cell_type": "code",
   "execution_count": 204,
   "id": "2c8c9ffd",
   "metadata": {},
   "outputs": [
    {
     "data": {
      "text/plain": [
       "array([[0.01220882],\n",
       "       [0.01211123],\n",
       "       [0.01201363],\n",
       "       ...,\n",
       "       [0.42157641],\n",
       "       [1.        ],\n",
       "       [0.55382564]])"
      ]
     },
     "execution_count": 204,
     "metadata": {},
     "output_type": "execute_result"
    }
   ],
   "source": [
    "scaller_target = MinMaxScaler(feature_range=(0,1))\n",
    "scalled_target = scaller_target.fit_transform(target)\n",
    "scalled_target"
   ]
  },
  {
   "cell_type": "code",
   "execution_count": 205,
   "id": "0c46581a",
   "metadata": {},
   "outputs": [],
   "source": [
    "feature_len = int(len(scalled_features)*0.8)\n",
    "target_len = int(len(scalled_target)*0.8)"
   ]
  },
  {
   "cell_type": "code",
   "execution_count": 206,
   "id": "4a0b0ba3",
   "metadata": {},
   "outputs": [],
   "source": [
    "train_feature = scalled_features[:feature_len]\n",
    "train_target = scalled_target[:target_len]"
   ]
  },
  {
   "cell_type": "code",
   "execution_count": 207,
   "id": "0e5261a0",
   "metadata": {},
   "outputs": [],
   "source": [
    "test_feature = scalled_features[feature_len:]\n",
    "test_target = scalled_target[target_len:]"
   ]
  },
  {
   "cell_type": "code",
   "execution_count": 208,
   "id": "6cdf34b8",
   "metadata": {},
   "outputs": [
    {
     "data": {
      "text/plain": [
       "(3818, 4)"
      ]
     },
     "execution_count": 208,
     "metadata": {},
     "output_type": "execute_result"
    }
   ],
   "source": [
    "train_feature.shape"
   ]
  },
  {
   "cell_type": "code",
   "execution_count": 209,
   "id": "a49dc246",
   "metadata": {},
   "outputs": [
    {
     "data": {
      "text/plain": [
       "(955, 4)"
      ]
     },
     "execution_count": 209,
     "metadata": {},
     "output_type": "execute_result"
    }
   ],
   "source": [
    "test_feature.shape"
   ]
  },
  {
   "cell_type": "code",
   "execution_count": 210,
   "id": "37a69b93",
   "metadata": {},
   "outputs": [
    {
     "data": {
      "text/plain": [
       "True"
      ]
     },
     "execution_count": 210,
     "metadata": {},
     "output_type": "execute_result"
    }
   ],
   "source": [
    "len(scalled_features) == (len(train_feature)+len(test_feature))"
   ]
  },
  {
   "cell_type": "code",
   "execution_count": 211,
   "id": "998b1755",
   "metadata": {},
   "outputs": [],
   "source": [
    "X_train , y_train = [], []\n",
    "timesteps = 80\n",
    "\n",
    "for i in range (timesteps,len(train_feature)):\n",
    "    X_train.append(train_feature[i-timesteps:i,:])\n",
    "    y_train.append(train_target[i,0])"
   ]
  },
  {
   "cell_type": "code",
   "execution_count": 212,
   "id": "1e4a8dcc",
   "metadata": {},
   "outputs": [
    {
     "name": "stdout",
     "output_type": "stream",
     "text": [
      "(3738, 80, 4)\n",
      "(3738,)\n"
     ]
    }
   ],
   "source": [
    "X_train = np.array(X_train)\n",
    "y_train = np.array(y_train)\n",
    "print(X_train.shape)\n",
    "print(y_train.shape)"
   ]
  },
  {
   "cell_type": "code",
   "execution_count": 213,
   "id": "183f8137",
   "metadata": {},
   "outputs": [
    {
     "data": {
      "text/plain": [
       "(3738, 80, 4)"
      ]
     },
     "execution_count": 213,
     "metadata": {},
     "output_type": "execute_result"
    }
   ],
   "source": [
    "X_train = X_train.reshape(X_train.shape[0],X_train.shape[1],4)\n",
    "X_train.shape"
   ]
  },
  {
   "cell_type": "code",
   "execution_count": 214,
   "id": "50ada6f3",
   "metadata": {},
   "outputs": [],
   "source": [
    "model1 = Sequential()\n",
    "model1.add(LSTM(16,activation='tanh',input_shape=(X_train.shape[1],4),return_sequences=False))\n",
    "model1.add(Dense(1))\n",
    "model1.compile(optimizer='adam',loss='mse')"
   ]
  },
  {
   "cell_type": "code",
   "execution_count": null,
   "id": "1a1fd827",
   "metadata": {},
   "outputs": [
    {
     "name": "stdout",
     "output_type": "stream",
     "text": [
      "Epoch 1/100\n",
      "117/117 [==============================] - 4s 18ms/step - loss: 4.2022e-05\n",
      "Epoch 2/100\n",
      "117/117 [==============================] - 2s 18ms/step - loss: 1.7108e-05\n",
      "Epoch 3/100\n",
      "117/117 [==============================] - 2s 19ms/step - loss: 1.6586e-05\n",
      "Epoch 4/100\n",
      "117/117 [==============================] - 2s 18ms/step - loss: 1.6313e-05\n",
      "Epoch 5/100\n",
      "117/117 [==============================] - 2s 18ms/step - loss: 1.6504e-05\n",
      "Epoch 6/100\n",
      "117/117 [==============================] - 2s 18ms/step - loss: 1.4791e-05\n",
      "Epoch 7/100\n",
      "117/117 [==============================] - 2s 18ms/step - loss: 1.5001e-05\n",
      "Epoch 8/100\n",
      "117/117 [==============================] - 2s 17ms/step - loss: 1.5781e-05\n",
      "Epoch 9/100\n",
      "117/117 [==============================] - 2s 17ms/step - loss: 1.5349e-05\n",
      "Epoch 10/100\n",
      "117/117 [==============================] - 2s 18ms/step - loss: 1.4658e-05\n",
      "Epoch 11/100\n",
      "117/117 [==============================] - 2s 18ms/step - loss: 1.5252e-05\n",
      "Epoch 12/100\n",
      "117/117 [==============================] - 2s 17ms/step - loss: 1.4189e-05\n",
      "Epoch 13/100\n",
      "117/117 [==============================] - 2s 17ms/step - loss: 1.3763e-05\n",
      "Epoch 14/100\n",
      "117/117 [==============================] - 2s 18ms/step - loss: 1.4065e-05\n",
      "Epoch 15/100\n",
      "117/117 [==============================] - 2s 17ms/step - loss: 1.4348e-05\n",
      "Epoch 16/100\n",
      "117/117 [==============================] - 2s 18ms/step - loss: 1.5156e-05\n",
      "Epoch 17/100\n",
      "117/117 [==============================] - 2s 17ms/step - loss: 1.3199e-05\n",
      "Epoch 18/100\n",
      "117/117 [==============================] - 2s 18ms/step - loss: 1.3847e-05\n",
      "Epoch 19/100\n",
      "117/117 [==============================] - 2s 18ms/step - loss: 1.3819e-05\n",
      "Epoch 20/100\n",
      "117/117 [==============================] - 2s 18ms/step - loss: 1.3966e-05\n",
      "Epoch 21/100\n",
      "117/117 [==============================] - 2s 19ms/step - loss: 1.4000e-05\n",
      "Epoch 22/100\n",
      "117/117 [==============================] - 2s 18ms/step - loss: 1.3031e-05\n",
      "Epoch 23/100\n",
      "117/117 [==============================] - 2s 17ms/step - loss: 1.3014e-05\n",
      "Epoch 24/100\n",
      "117/117 [==============================] - 2s 18ms/step - loss: 1.3610e-05\n",
      "Epoch 25/100\n",
      "117/117 [==============================] - 2s 18ms/step - loss: 1.2905e-05\n",
      "Epoch 26/100\n",
      "117/117 [==============================] - 2s 18ms/step - loss: 1.2717e-05\n",
      "Epoch 27/100\n",
      "117/117 [==============================] - 2s 18ms/step - loss: 1.3335e-05\n",
      "Epoch 28/100\n",
      "117/117 [==============================] - 2s 18ms/step - loss: 1.2685e-05\n",
      "Epoch 29/100\n",
      "117/117 [==============================] - 2s 17ms/step - loss: 1.3567e-05\n",
      "Epoch 30/100\n",
      "117/117 [==============================] - 2s 18ms/step - loss: 1.2302e-05\n",
      "Epoch 31/100\n",
      "117/117 [==============================] - 2s 18ms/step - loss: 1.1500e-05\n",
      "Epoch 32/100\n",
      "117/117 [==============================] - 2s 17ms/step - loss: 1.2107e-05\n",
      "Epoch 33/100\n",
      "117/117 [==============================] - 2s 18ms/step - loss: 1.2623e-05\n",
      "Epoch 34/100\n",
      "117/117 [==============================] - 2s 17ms/step - loss: 1.1656e-05\n",
      "Epoch 35/100\n",
      "117/117 [==============================] - 2s 18ms/step - loss: 1.1099e-05\n",
      "Epoch 36/100\n",
      "117/117 [==============================] - 2s 18ms/step - loss: 1.1910e-05\n",
      "Epoch 37/100\n",
      "117/117 [==============================] - 2s 18ms/step - loss: 1.0861e-05\n",
      "Epoch 38/100\n",
      "117/117 [==============================] - 2s 18ms/step - loss: 1.0987e-05\n",
      "Epoch 39/100\n",
      "117/117 [==============================] - 2s 18ms/step - loss: 1.1260e-05\n",
      "Epoch 40/100\n",
      "117/117 [==============================] - 2s 18ms/step - loss: 1.1189e-05\n",
      "Epoch 41/100\n",
      "117/117 [==============================] - 2s 18ms/step - loss: 1.0690e-05\n",
      "Epoch 42/100\n",
      "117/117 [==============================] - 2s 18ms/step - loss: 1.0781e-05\n",
      "Epoch 43/100\n",
      "117/117 [==============================] - 2s 18ms/step - loss: 1.1924e-05\n",
      "Epoch 44/100\n",
      "117/117 [==============================] - 2s 18ms/step - loss: 1.1271e-05\n",
      "Epoch 45/100\n",
      "117/117 [==============================] - 2s 18ms/step - loss: 1.1855e-05\n",
      "Epoch 46/100\n",
      "117/117 [==============================] - 2s 18ms/step - loss: 1.1584e-05\n",
      "Epoch 47/100\n",
      "117/117 [==============================] - 2s 18ms/step - loss: 1.0072e-05\n",
      "Epoch 48/100\n",
      "117/117 [==============================] - 2s 17ms/step - loss: 1.0304e-05\n",
      "Epoch 49/100\n",
      "117/117 [==============================] - 2s 18ms/step - loss: 1.0561e-05\n",
      "Epoch 50/100\n",
      "117/117 [==============================] - 2s 18ms/step - loss: 1.0549e-05\n",
      "Epoch 51/100\n",
      "117/117 [==============================] - 2s 19ms/step - loss: 1.0275e-05\n",
      "Epoch 52/100\n",
      "117/117 [==============================] - 2s 18ms/step - loss: 1.1099e-05\n",
      "Epoch 53/100\n",
      "117/117 [==============================] - 2s 18ms/step - loss: 1.0837e-05\n",
      "Epoch 54/100\n",
      "117/117 [==============================] - 2s 18ms/step - loss: 1.0260e-05\n",
      "Epoch 55/100\n",
      "117/117 [==============================] - 2s 18ms/step - loss: 1.0533e-05\n",
      "Epoch 56/100\n",
      "117/117 [==============================] - 2s 18ms/step - loss: 1.0734e-05\n",
      "Epoch 57/100\n",
      "117/117 [==============================] - 2s 19ms/step - loss: 1.1035e-05\n",
      "Epoch 58/100\n",
      "117/117 [==============================] - 2s 18ms/step - loss: 1.0752e-05\n",
      "Epoch 59/100\n",
      "117/117 [==============================] - 2s 18ms/step - loss: 1.1173e-05\n",
      "Epoch 60/100\n",
      "104/117 [=========================>....] - ETA: 0s - loss: 1.0476e-05"
     ]
    }
   ],
   "source": [
    "model1.fit(X_train,y_train,batch_size=32,epochs=100)"
   ]
  },
  {
   "cell_type": "code",
   "execution_count": null,
   "id": "c54a6f20",
   "metadata": {},
   "outputs": [],
   "source": [
    "test = scalled_features[len(train_feature)-80:]"
   ]
  },
  {
   "cell_type": "code",
   "execution_count": null,
   "id": "ad4268b0",
   "metadata": {},
   "outputs": [],
   "source": [
    "X_test=  []\n",
    "for i in range(timesteps,len(test)):\n",
    "    X_test.append(test[i-timesteps:i,:])\n"
   ]
  },
  {
   "cell_type": "code",
   "execution_count": null,
   "id": "ecdf61bc",
   "metadata": {},
   "outputs": [],
   "source": [
    "X_test = np.array(X_test)\n",
    "X_test = X_test.reshape(X_test.shape[0],X_test.shape[1],4)"
   ]
  },
  {
   "cell_type": "code",
   "execution_count": null,
   "id": "78a5fee1",
   "metadata": {},
   "outputs": [],
   "source": [
    "m1_prediction = model1.predict(X_test)\n",
    "normal_model1_price = scaller_target.inverse_transform(m1_prediction)\n"
   ]
  },
  {
   "cell_type": "code",
   "execution_count": null,
   "id": "fa666cd2",
   "metadata": {},
   "outputs": [],
   "source": [
    "test_normal_price = scaller_target.inverse_transform(test_target)"
   ]
  },
  {
   "cell_type": "code",
   "execution_count": null,
   "id": "eb896917",
   "metadata": {},
   "outputs": [],
   "source": [
    "plt.figure(figsize=(10,5))\n",
    "plt.xlabel('days')\n",
    "plt.ylabel('Price')\n",
    "plt.plot(normal_model1_price,label='Predicted Values')\n",
    "plt.plot(test_normal_price,label='Real Value')\n",
    "plt.legend()\n",
    "plt.grid()\n",
    "plt.show()"
   ]
  },
  {
   "cell_type": "code",
   "execution_count": null,
   "id": "8c27e8bb",
   "metadata": {},
   "outputs": [],
   "source": [
    "from sklearn.metrics import r2_score\n",
    "r2_score(test_normal_price,normal_model1_price)"
   ]
  },
  {
   "cell_type": "markdown",
   "id": "dcaafbbb",
   "metadata": {},
   "source": [
    "# model 2"
   ]
  },
  {
   "cell_type": "code",
   "execution_count": null,
   "id": "9abb89f7",
   "metadata": {},
   "outputs": [],
   "source": [
    "model2 = Sequential()\n",
    "model2.add(LSTM(32,activation='tanh',input_shape=(X_train.shape[1],4),return_sequences=False))\n",
    "model2.add(Dense(1))\n",
    "model2.compile(optimizer='adam',loss='mse')"
   ]
  },
  {
   "cell_type": "code",
   "execution_count": null,
   "id": "efb2e678",
   "metadata": {},
   "outputs": [],
   "source": [
    "model2.fit(X_train,y_train,batch_size=64,epochs=150)"
   ]
  },
  {
   "cell_type": "code",
   "execution_count": null,
   "id": "5b7f25cb",
   "metadata": {},
   "outputs": [],
   "source": [
    "m2_prediction = model2.predict(X_test)\n",
    "normal_model2_price = scaller_target.inverse_transform(m2_prediction)\n"
   ]
  },
  {
   "cell_type": "code",
   "execution_count": null,
   "id": "aa16aab5",
   "metadata": {},
   "outputs": [],
   "source": [
    "plt.figure(figsize=(10,5))\n",
    "plt.xlabel('days')\n",
    "plt.ylabel('Price')\n",
    "plt.plot(normal_model2_price,label='Predicted Values')\n",
    "plt.plot(test_normal_price,label='Real Value')\n",
    "plt.legend()\n",
    "plt.grid()\n",
    "plt.show()"
   ]
  },
  {
   "cell_type": "code",
   "execution_count": null,
   "id": "afc40a5d",
   "metadata": {},
   "outputs": [],
   "source": [
    "r2_score(test_normal_price,normal_model2_price)"
   ]
  },
  {
   "cell_type": "markdown",
   "id": "82dc3eb4",
   "metadata": {},
   "source": [
    "# model 3"
   ]
  },
  {
   "cell_type": "code",
   "execution_count": null,
   "id": "2b92545e",
   "metadata": {},
   "outputs": [],
   "source": [
    "model3 = Sequential()\n",
    "model3.add(LSTM(32,activation='tanh',input_shape=(X_train.shape[1],4),return_sequences=False))\n",
    "model2.add(Dense(1))\n",
    "model2.compile(optimizer='adam',loss='mse')"
   ]
  },
  {
   "cell_type": "code",
   "execution_count": null,
   "id": "4f2c29f2",
   "metadata": {},
   "outputs": [],
   "source": []
  },
  {
   "cell_type": "code",
   "execution_count": null,
   "id": "c69229b3",
   "metadata": {},
   "outputs": [],
   "source": []
  }
 ],
 "metadata": {
  "kernelspec": {
   "display_name": "Python 3 (ipykernel)",
   "language": "python",
   "name": "python3"
  },
  "language_info": {
   "codemirror_mode": {
    "name": "ipython",
    "version": 3
   },
   "file_extension": ".py",
   "mimetype": "text/x-python",
   "name": "python",
   "nbconvert_exporter": "python",
   "pygments_lexer": "ipython3",
   "version": "3.9.12"
  }
 },
 "nbformat": 4,
 "nbformat_minor": 5
}
